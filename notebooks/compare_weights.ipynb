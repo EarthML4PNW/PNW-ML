{
 "cells": [
  {
   "cell_type": "markdown",
   "id": "d8da065d",
   "metadata": {},
   "source": [
    "## Compare weights of Earthquake Transformer\n",
    "\n",
    "\n",
    "\n",
    "\n",
    "- Weights for Seisbench (original.pt) are downloaded from https://dcache-demo.desy.de:2443/Helmholtz/HelmholtzAI/SeisBench/models/eqtransformer/\n",
    "- Weights from original Earthquake Trnasformer are downloaded from https://github.com/smousavi05/EQTransformer/tree/master/ModelsAndSampleData\n",
    "\n",
    "\n",
    "---\n",
    " ##### Yiyu Ni (niyiyu@uw.edu)\n",
    " ##### Earth and Space Sciences\n",
    " ##### University of Washington"
   ]
  },
  {
   "cell_type": "code",
   "execution_count": 1,
   "id": "603bf227",
   "metadata": {},
   "outputs": [],
   "source": [
    "import numpy as np\n",
    "import h5py\n",
    "import torch\n",
    "import matplotlib.pyplot as plt"
   ]
  },
  {
   "cell_type": "markdown",
   "id": "126db19d",
   "metadata": {},
   "source": [
    "# Loading weights from Seisbench and EqTransformer\n",
    "\n",
    "- Weights for Seisbench (original.pt) are downloaded from [here](https://dcache-demo.desy.de:2443/Helmholtz/HelmholtzAI/SeisBench/models/eqtransformer/)\n",
    "- Weights from original Earthquake Trnasformer are downloaded from [here](https://github.com/smousavi05/EQTransformer/tree/master/ModelsAndSampleData)"
   ]
  },
  {
   "cell_type": "code",
   "execution_count": 2,
   "id": "98cdacee",
   "metadata": {},
   "outputs": [],
   "source": [
    "para_sbm = torch.load(\"./original.pt\")\n",
    "para_eqt = h5py.File(\"./EqT_model.h5\", mode = \"r\")"
   ]
  },
  {
   "cell_type": "markdown",
   "id": "9f58fd5f",
   "metadata": {},
   "source": [
    "# Comparing two weight files\n",
    "Since two weights are outputed by different packages, and also vary in their name, it is hard to compare all weights directly. But we can pick one of them and check manually. To compare the parameters, one weight matrix is subtracted from another, and a zero matrix is expected as the result, which indicates that there is no difference between two matrices."
   ]
  },
  {
   "cell_type": "markdown",
   "id": "145d022b",
   "metadata": {},
   "source": [
    "## All four Transformer matches"
   ]
  },
  {
   "cell_type": "code",
   "execution_count": 3,
   "id": "e658bcb2",
   "metadata": {},
   "outputs": [
    {
     "name": "stdout",
     "output_type": "stream",
     "text": [
      "0.0\n",
      "0.0\n",
      "0.0\n",
      "0.0\n",
      "0.0\n",
      "0.0\n",
      "0.0\n",
      "0.0\n",
      "0.0\n",
      "0.0\n",
      "0.0\n",
      "0.0\n",
      "0.0\n",
      "0.0\n",
      "0.0\n",
      "0.0\n"
     ]
    }
   ],
   "source": [
    "for att_eqt, att_sbm in zip(['attentionD', 'attentionD0', 'attentionP', 'attentionS'], \n",
    "                            ['transformer_d.attention', 'transformer_d0.attention', 'pick_attentions.0', 'pick_attentions.1']):\n",
    "    for i in ['Wt', 'Wx', 'bh', 'ba']:\n",
    "        attention_eqt = para_eqt['model_weights'][att_eqt][att_eqt][att_eqt + '_Add_%s:0' % i][:]\n",
    "        attention_sbm = np.array(para_sbm[att_sbm + '.' + i][:])\n",
    "        print((attention_eqt - attention_sbm).sum())"
   ]
  },
  {
   "cell_type": "code",
   "execution_count": 4,
   "id": "8a351806",
   "metadata": {},
   "outputs": [
    {
     "name": "stdout",
     "output_type": "stream",
     "text": [
      "0.0\n"
     ]
    }
   ],
   "source": [
    "picker_eqt = para_eqt['model_weights']['picker_P']['picker_P']['kernel:0'][:]\n",
    "picker_sbm = np.array(para_sbm['pick_convs.0.weight'].permute([2, 1, 0])[:])\n",
    "print((picker_eqt - picker_sbm).sum())"
   ]
  },
  {
   "cell_type": "markdown",
   "id": "dd85398e",
   "metadata": {},
   "source": [
    "## For the convolution layers"
   ]
  },
  {
   "cell_type": "code",
   "execution_count": 5,
   "id": "3bc0f4f8",
   "metadata": {},
   "outputs": [
    {
     "name": "stdout",
     "output_type": "stream",
     "text": [
      "\tBias\tWeights\n",
      "EqT:\t(8,)\t(11, 3, 8)\n",
      "sbm:\t(8,)\t(11, 3, 8)\n",
      "Bias abs diff:\t\t0.000\n",
      "weight abs diff:\t35.329\n",
      "\n",
      "\tBias\tWeights\n",
      "EqT:\t(16,)\t(9, 8, 16)\n",
      "sbm:\t(16,)\t(9, 8, 16)\n",
      "Bias abs diff:\t\t0.000\n",
      "weight abs diff:\t0.000\n",
      "\n",
      "\tBias\tWeights\n",
      "EqT:\t(16,)\t(7, 16, 16)\n",
      "sbm:\t(16,)\t(7, 16, 16)\n",
      "Bias abs diff:\t\t0.000\n",
      "weight abs diff:\t0.000\n",
      "\n",
      "\tBias\tWeights\n",
      "EqT:\t(32,)\t(7, 16, 32)\n",
      "sbm:\t(32,)\t(7, 16, 32)\n",
      "Bias abs diff:\t\t0.000\n",
      "weight abs diff:\t0.000\n",
      "\n",
      "\tBias\tWeights\n",
      "EqT:\t(32,)\t(5, 32, 32)\n",
      "sbm:\t(32,)\t(5, 32, 32)\n",
      "Bias abs diff:\t\t0.000\n",
      "weight abs diff:\t0.000\n",
      "\n",
      "\tBias\tWeights\n",
      "EqT:\t(64,)\t(5, 32, 64)\n",
      "sbm:\t(64,)\t(5, 32, 64)\n",
      "Bias abs diff:\t\t0.000\n",
      "weight abs diff:\t0.000\n",
      "\n",
      "\tBias\tWeights\n",
      "EqT:\t(64,)\t(3, 64, 64)\n",
      "sbm:\t(64,)\t(3, 64, 64)\n",
      "Bias abs diff:\t\t0.000\n",
      "weight abs diff:\t0.000\n",
      "\n"
     ]
    }
   ],
   "source": [
    "for i in range(7):\n",
    "    bias_eqt = para_eqt['model_weights']['conv1d_%d' % (i+1)]['conv1d_%d' % (i+1)]['bias:0']\n",
    "    bias_sbm = np.array(para_sbm['encoder.convs.%d.bias' % i])\n",
    "    weight_eqt = para_eqt['model_weights']['conv1d_%d' % (i+1)]['conv1d_%d' % (i+1)]['kernel:0']\n",
    "    weight_sbm = np.array(para_sbm['encoder.convs.%d.weight' % i].permute([2, 1, 0]))\n",
    "    print(\"\\tBias\\tWeights\\nEqT:\\t%s\\t%s\\nsbm:\\t%s\\t%s\" %\n",
    "          (bias_eqt.shape, weight_eqt.shape, bias_sbm.shape, weight_sbm.shape))\n",
    "    print(\"Bias abs diff:\\t\\t%.3f\\nweight abs diff:\\t%.3f\\n\" % \n",
    "          (sum(bias_sbm - bias_eqt).sum(), abs(weight_sbm - weight_eqt).sum()))"
   ]
  },
  {
   "cell_type": "markdown",
   "id": "b1af4e3c",
   "metadata": {},
   "source": [
    "As expected, the shape of bias and weights matches. The values of bias match perfectly. But there is mismatch in the input layer's weight.\n",
    "\n",
    "## So, take a look at what's differen with the input layer's weight\n",
    "The intput layer is labeled as **\"Conv 1D, 8 kr 11, MaxPooling/2\"** in the Figure 1 of Mousavi's paper. This is a 1D convolution layer that has 8 kernels, 3 input channel, and 11 kernel size."
   ]
  },
  {
   "cell_type": "code",
   "execution_count": 6,
   "id": "17e8c108",
   "metadata": {},
   "outputs": [
    {
     "name": "stdout",
     "output_type": "stream",
     "text": [
      "\tBias\tWeights\n",
      "EqT:\t(8,)\t(11, 3, 8)\n",
      "sbm:\t(8,)\t(11, 3, 8)\n"
     ]
    }
   ],
   "source": [
    "bias_eqt = para_eqt['model_weights']['conv1d_1']['conv1d_1']['bias:0']\n",
    "bias_sbm = np.array(para_sbm['encoder.convs.0.bias'])\n",
    "weight_eqt = para_eqt['model_weights']['conv1d_1']['conv1d_1']['kernel:0'][:, :, :]\n",
    "weight_sbm = np.array(para_sbm['encoder.convs.0.weight'].permute([2, 1, 0]))\n",
    "print(\"\\tBias\\tWeights\\nEqT:\\t%s\\t%s\\nsbm:\\t%s\\t%s\" %\n",
    "      (bias_eqt.shape, weight_eqt.shape, bias_sbm.shape, weight_sbm.shape))"
   ]
  },
  {
   "cell_type": "code",
   "execution_count": 7,
   "id": "2d2b0861",
   "metadata": {},
   "outputs": [
    {
     "data": {
      "image/png": "[encoded data removed]",
      "text/plain": [
       "<Figure size 720x360 with 2 Axes>"
      ]
     },
     "metadata": {
      "needs_background": "light"
     },
     "output_type": "display_data"
    }
   ],
   "source": [
    "plt.figure(figsize = (10, 5))\n",
    "plt.subplot(1, 2, 1)\n",
    "_ = plt.hist(weight_sbm.flatten(), 50, color = 'r', edgecolor = 'k')\n",
    "plt.subplot(1, 2, 2)\n",
    "_ = plt.hist(weight_eqt.flatten(), 50, color = 'y', edgecolor = 'k')"
   ]
  },
  {
   "cell_type": "markdown",
   "id": "8562e924",
   "metadata": {},
   "source": [
    "Histogram shows that weights follow exactly the same distribution, which indicate that the values are the same, but their orders are not. Results show that weights does not match partially. \n",
    "\n",
    "## The first and third channels are swapped."
   ]
  },
  {
   "cell_type": "code",
   "execution_count": 8,
   "id": "9d7aae00",
   "metadata": {
    "scrolled": false
   },
   "outputs": [
    {
     "data": {
      "text/plain": [
       "array([[[-0.0638267 ,  0.07888036,  0.00114959, -0.10464834,\n",
       "          0.13037263,  0.3779272 ,  0.22011526, -0.24125506],\n",
       "        [ 0.        ,  0.        ,  0.        ,  0.        ,\n",
       "          0.        ,  0.        ,  0.        ,  0.        ],\n",
       "        [ 0.0638267 , -0.07888036, -0.00114959,  0.10464834,\n",
       "         -0.13037263, -0.3779272 , -0.22011526,  0.24125506]],\n",
       "\n",
       "       [[-0.0751636 , -0.00753759, -0.00353981,  0.20217833,\n",
       "          0.11652699,  0.29299304,  0.13031586, -0.14651714],\n",
       "        [ 0.        ,  0.        ,  0.        ,  0.        ,\n",
       "          0.        ,  0.        ,  0.        ,  0.        ],\n",
       "        [ 0.0751636 ,  0.00753759,  0.00353981, -0.20217833,\n",
       "         -0.11652699, -0.29299304, -0.13031586,  0.14651714]],\n",
       "\n",
       "       [[-0.10143881, -0.02302781, -0.00955793, -0.1896888 ,\n",
       "          0.16863841,  0.4960329 , -0.6954344 , -0.2699585 ],\n",
       "        [ 0.        ,  0.        ,  0.        ,  0.        ,\n",
       "          0.        ,  0.        ,  0.        ,  0.        ],\n",
       "        [ 0.10143881,  0.02302781,  0.00955793,  0.1896888 ,\n",
       "         -0.16863841, -0.4960329 ,  0.6954344 ,  0.2699585 ]],\n",
       "\n",
       "       [[-0.19510591,  0.07743371, -0.00834597,  0.19197932,\n",
       "          0.23532687,  0.25577626, -0.23483092, -0.30262563],\n",
       "        [ 0.        ,  0.        ,  0.        ,  0.        ,\n",
       "          0.        ,  0.        ,  0.        ,  0.        ],\n",
       "        [ 0.19510591, -0.07743371,  0.00834597, -0.19197932,\n",
       "         -0.23532687, -0.25577626,  0.23483092,  0.30262563]],\n",
       "\n",
       "       [[-0.2333137 , -0.00843389, -0.00380233, -0.2607115 ,\n",
       "          0.23402962, -0.16390017,  0.8523569 , -0.3811129 ],\n",
       "        [ 0.        ,  0.        ,  0.        ,  0.        ,\n",
       "          0.        ,  0.        ,  0.        ,  0.        ],\n",
       "        [ 0.2333137 ,  0.00843389,  0.00380233,  0.2607115 ,\n",
       "         -0.23402962,  0.16390017, -0.8523569 ,  0.3811129 ]],\n",
       "\n",
       "       [[-0.29685163, -0.072773  ,  0.01843827,  0.27840778,\n",
       "          0.2934353 , -0.73293334, -0.02114021, -0.21726587],\n",
       "        [ 0.        ,  0.        ,  0.        ,  0.        ,\n",
       "          0.        ,  0.        ,  0.        ,  0.        ],\n",
       "        [ 0.29685163,  0.072773  , -0.01843827, -0.27840778,\n",
       "         -0.2934353 ,  0.73293334,  0.02114021,  0.21726587]],\n",
       "\n",
       "       [[-0.27706873,  0.03766374,  0.01553808, -0.16765638,\n",
       "          0.3052929 , -0.5144667 , -0.2687309 ,  0.30254325],\n",
       "        [ 0.        ,  0.        ,  0.        ,  0.        ,\n",
       "          0.        ,  0.        ,  0.        ,  0.        ],\n",
       "        [ 0.27706873, -0.03766374, -0.01553808,  0.16765638,\n",
       "         -0.3052929 ,  0.5144667 ,  0.2687309 , -0.30254325]],\n",
       "\n",
       "       [[-0.132461  ,  0.02450207, -0.067868  ,  0.13518554,\n",
       "          0.12350964, -0.10050816,  0.03487898,  0.69708276],\n",
       "        [ 0.        ,  0.        ,  0.        ,  0.        ,\n",
       "          0.        ,  0.        ,  0.        ,  0.        ],\n",
       "        [ 0.132461  , -0.02450207,  0.067868  , -0.13518554,\n",
       "         -0.12350964,  0.10050816, -0.03487898, -0.69708276]],\n",
       "\n",
       "       [[ 0.18944919, -0.0150033 ,  0.03708699, -0.25204748,\n",
       "         -0.36102015,  0.05390762, -0.00926884,  0.5260284 ],\n",
       "        [ 0.        ,  0.        ,  0.        ,  0.        ,\n",
       "          0.        ,  0.        ,  0.        ,  0.        ],\n",
       "        [-0.18944919,  0.0150033 , -0.03708699,  0.25204748,\n",
       "          0.36102015, -0.05390762,  0.00926884, -0.5260284 ]],\n",
       "\n",
       "       [[ 0.67656064, -0.00843858,  0.07080403,  0.31515965,\n",
       "         -0.7439413 , -0.06519139,  0.0011406 ,  0.05867477],\n",
       "        [ 0.        ,  0.        ,  0.        ,  0.        ,\n",
       "          0.        ,  0.        ,  0.        ,  0.        ],\n",
       "        [-0.67656064,  0.00843858, -0.07080403, -0.31515965,\n",
       "          0.7439413 ,  0.06519139, -0.0011406 , -0.05867477]],\n",
       "\n",
       "       [[ 0.5671076 , -0.01409308, -0.05307217, -0.1645099 ,\n",
       "         -0.5371426 ,  0.00844106,  0.00487249,  0.00938812],\n",
       "        [ 0.        ,  0.        ,  0.        ,  0.        ,\n",
       "          0.        ,  0.        ,  0.        ,  0.        ],\n",
       "        [-0.5671076 ,  0.01409308,  0.05307217,  0.1645099 ,\n",
       "          0.5371426 , -0.00844106, -0.00487249, -0.00938812]]],\n",
       "      dtype=float32)"
      ]
     },
     "execution_count": 8,
     "metadata": {},
     "output_type": "execute_result"
    }
   ],
   "source": [
    "weight_sbm - weight_eqt"
   ]
  },
  {
   "cell_type": "markdown",
   "id": "7913a7cd",
   "metadata": {},
   "source": [
    "## Actually, this matches what seisbench expects.\n",
    "In seisbench's configure file, the channel is in the order of \"ZNE\" by default. See configure [here](https://dcache-demo.desy.de:2443/Helmholtz/HelmholtzAI/SeisBench/models/eqtransformer/original.json?action=show). This does not matches original implementation of Earthquake Transformer, which is in the order of \"ENZ\" and is shown [here](https://github.com/smousavi05/EQTransformer/blob/master/EQTransformer/utils/hdf5_maker.py#L212-L220). It is reasonable to swap these weights of input layer."
   ]
  },
  {
   "cell_type": "code",
   "execution_count": null,
   "id": "aef712e8",
   "metadata": {},
   "outputs": [],
   "source": []
  }
 ],
 "metadata": {
  "kernelspec": {
   "display_name": "SeisML",
   "language": "python",
   "name": "seisml"
  },
  "language_info": {
   "codemirror_mode": {
    "name": "ipython",
    "version": 3
   },
   "file_extension": ".py",
   "mimetype": "text/x-python",
   "name": "python",
   "nbconvert_exporter": "python",
   "pygments_lexer": "ipython3",
   "version": "3.8.12"
  }
 },
 "nbformat": 4,
 "nbformat_minor": 5
}
