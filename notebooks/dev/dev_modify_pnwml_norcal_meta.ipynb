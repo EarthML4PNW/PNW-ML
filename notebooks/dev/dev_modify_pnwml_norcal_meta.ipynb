{
 "cells": [
  {
   "cell_type": "code",
   "execution_count": 1,
   "id": "6db08923",
   "metadata": {},
   "outputs": [],
   "source": [
    "import pandas as pd\n",
    "from tqdm import tqdm\n",
    "import obspy\n",
    "import numpy as np\n",
    "from obspy.core.utcdatetime import UTCDateTime\n",
    "import sys\n",
    "import h5py \n",
    "sys.path.append(\"/data/wsd01/pnwstore/\")\n",
    "\n",
    "import matplotlib.pyplot as plt\n",
    "from obspy.core.utcdatetime import UTCDateTime\n",
    "from pnwstore.catalog import QuakeClient\n",
    "from pnwstore.station import StationClient\n",
    "\n",
    "from collections import Counter"
   ]
  },
  {
   "cell_type": "code",
   "execution_count": 2,
   "id": "bd6424d2",
   "metadata": {},
   "outputs": [],
   "source": [
    "quakeclient = QuakeClient(\"cascadia\", \"pnwstore\")\n",
    "stationclient = StationClient(\"cascadia\", \"pnwstore\")\n",
    "pd.set_option('display.max_columns', None)"
   ]
  },
  {
   "cell_type": "code",
   "execution_count": 3,
   "id": "75bea4fe",
   "metadata": {},
   "outputs": [],
   "source": [
    "df_path = \"/data/whd01/yiyu_data/PNWML/extract/norcal_metadata.csv\""
   ]
  },
  {
   "cell_type": "code",
   "execution_count": 4,
   "id": "567f6ad5",
   "metadata": {},
   "outputs": [
    {
     "data": {
      "text/html": [
       "<div>\n",
       "<style scoped>\n",
       "    .dataframe tbody tr th:only-of-type {\n",
       "        vertical-align: middle;\n",
       "    }\n",
       "\n",
       "    .dataframe tbody tr th {\n",
       "        vertical-align: top;\n",
       "    }\n",
       "\n",
       "    .dataframe thead th {\n",
       "        text-align: right;\n",
       "    }\n",
       "</style>\n",
       "<table border=\"1\" class=\"dataframe\">\n",
       "  <thead>\n",
       "    <tr style=\"text-align: right;\">\n",
       "      <th></th>\n",
       "      <th>event_id</th>\n",
       "      <th>source_origin_time</th>\n",
       "      <th>source_latitude_deg</th>\n",
       "      <th>source_longitude_deg</th>\n",
       "      <th>source_type</th>\n",
       "      <th>source_depth_km</th>\n",
       "      <th>source_magnitude</th>\n",
       "      <th>source_magnitude_type</th>\n",
       "      <th>source_depth_uncertainty_km</th>\n",
       "      <th>source_horizontal_uncertainty_km</th>\n",
       "      <th>station_network_code</th>\n",
       "      <th>trace_channel</th>\n",
       "      <th>station_code</th>\n",
       "      <th>station_location_code</th>\n",
       "      <th>station_latitude_deg</th>\n",
       "      <th>station_longitude_deg</th>\n",
       "      <th>station_elevation_m</th>\n",
       "      <th>trace_name</th>\n",
       "      <th>trace_sampling_rate_hz</th>\n",
       "      <th>trace_start_time</th>\n",
       "      <th>trace_P_arrival_sample</th>\n",
       "      <th>trace_P_arrival_uncertainty_s</th>\n",
       "      <th>trace_P_polarity</th>\n",
       "      <th>trace_P_onset</th>\n",
       "    </tr>\n",
       "  </thead>\n",
       "  <tbody>\n",
       "    <tr>\n",
       "      <th>0</th>\n",
       "      <td>uw61899326</td>\n",
       "      <td>2022-12-20T13:35:04.490000Z</td>\n",
       "      <td>40.549</td>\n",
       "      <td>-124.400</td>\n",
       "      <td>earthquake</td>\n",
       "      <td>8.88</td>\n",
       "      <td>3.4</td>\n",
       "      <td>Mh</td>\n",
       "      <td>31.61</td>\n",
       "      <td>11.17</td>\n",
       "      <td>BK</td>\n",
       "      <td>HH</td>\n",
       "      <td>YBH</td>\n",
       "      <td>00</td>\n",
       "      <td>TBA</td>\n",
       "      <td>TBA</td>\n",
       "      <td>TBA</td>\n",
       "      <td>bucket1$0,:3,:25001</td>\n",
       "      <td>100</td>\n",
       "      <td>2022-12-20T13:34:14.490000Z</td>\n",
       "      <td>7929</td>\n",
       "      <td>0.06</td>\n",
       "      <td>positive</td>\n",
       "      <td>impulsive</td>\n",
       "    </tr>\n",
       "    <tr>\n",
       "      <th>1</th>\n",
       "      <td>uw61899326</td>\n",
       "      <td>2022-12-20T13:35:04.490000Z</td>\n",
       "      <td>40.549</td>\n",
       "      <td>-124.400</td>\n",
       "      <td>earthquake</td>\n",
       "      <td>8.88</td>\n",
       "      <td>3.4</td>\n",
       "      <td>Mh</td>\n",
       "      <td>31.61</td>\n",
       "      <td>11.17</td>\n",
       "      <td>NC</td>\n",
       "      <td>HH</td>\n",
       "      <td>KSXB</td>\n",
       "      <td>--</td>\n",
       "      <td>TBA</td>\n",
       "      <td>TBA</td>\n",
       "      <td>TBA</td>\n",
       "      <td>bucket1$1,:3,:25001</td>\n",
       "      <td>100</td>\n",
       "      <td>2022-12-20T13:34:14.490000Z</td>\n",
       "      <td>7365</td>\n",
       "      <td>0.03</td>\n",
       "      <td>positive</td>\n",
       "      <td>impulsive</td>\n",
       "    </tr>\n",
       "    <tr>\n",
       "      <th>2</th>\n",
       "      <td>uw61899326</td>\n",
       "      <td>2022-12-20T13:35:04.490000Z</td>\n",
       "      <td>40.549</td>\n",
       "      <td>-124.400</td>\n",
       "      <td>earthquake</td>\n",
       "      <td>8.88</td>\n",
       "      <td>3.4</td>\n",
       "      <td>Mh</td>\n",
       "      <td>31.61</td>\n",
       "      <td>11.17</td>\n",
       "      <td>UO</td>\n",
       "      <td>HH</td>\n",
       "      <td>CAVE</td>\n",
       "      <td>--</td>\n",
       "      <td>42.1209</td>\n",
       "      <td>-123.571</td>\n",
       "      <td>440.00</td>\n",
       "      <td>bucket1$2,:3,:25001</td>\n",
       "      <td>100</td>\n",
       "      <td>2022-12-20T13:34:14.490000Z</td>\n",
       "      <td>7856</td>\n",
       "      <td>0.03</td>\n",
       "      <td>positive</td>\n",
       "      <td>impulsive</td>\n",
       "    </tr>\n",
       "    <tr>\n",
       "      <th>3</th>\n",
       "      <td>uw61899326</td>\n",
       "      <td>2022-12-20T13:35:04.490000Z</td>\n",
       "      <td>40.549</td>\n",
       "      <td>-124.400</td>\n",
       "      <td>earthquake</td>\n",
       "      <td>8.88</td>\n",
       "      <td>3.4</td>\n",
       "      <td>Mh</td>\n",
       "      <td>31.61</td>\n",
       "      <td>11.17</td>\n",
       "      <td>UO</td>\n",
       "      <td>HH</td>\n",
       "      <td>SISQ</td>\n",
       "      <td>--</td>\n",
       "      <td>42.2754</td>\n",
       "      <td>-123.632</td>\n",
       "      <td>395.00</td>\n",
       "      <td>bucket1$3,:3,:25001</td>\n",
       "      <td>100</td>\n",
       "      <td>2022-12-20T13:34:14.490000Z</td>\n",
       "      <td>8084</td>\n",
       "      <td>0.03</td>\n",
       "      <td>negative</td>\n",
       "      <td>impulsive</td>\n",
       "    </tr>\n",
       "    <tr>\n",
       "      <th>4</th>\n",
       "      <td>uw61899326</td>\n",
       "      <td>2022-12-20T13:35:04.490000Z</td>\n",
       "      <td>40.549</td>\n",
       "      <td>-124.400</td>\n",
       "      <td>earthquake</td>\n",
       "      <td>8.88</td>\n",
       "      <td>3.4</td>\n",
       "      <td>Mh</td>\n",
       "      <td>31.61</td>\n",
       "      <td>11.17</td>\n",
       "      <td>PB</td>\n",
       "      <td>EH</td>\n",
       "      <td>B040</td>\n",
       "      <td>--</td>\n",
       "      <td>41.8308</td>\n",
       "      <td>-122.421</td>\n",
       "      <td>819.50</td>\n",
       "      <td>bucket1$4,:3,:25001</td>\n",
       "      <td>100</td>\n",
       "      <td>2022-12-20T13:34:14.490000Z</td>\n",
       "      <td>8306</td>\n",
       "      <td>0.03</td>\n",
       "      <td>positive</td>\n",
       "      <td>impulsive</td>\n",
       "    </tr>\n",
       "    <tr>\n",
       "      <th>...</th>\n",
       "      <td>...</td>\n",
       "      <td>...</td>\n",
       "      <td>...</td>\n",
       "      <td>...</td>\n",
       "      <td>...</td>\n",
       "      <td>...</td>\n",
       "      <td>...</td>\n",
       "      <td>...</td>\n",
       "      <td>...</td>\n",
       "      <td>...</td>\n",
       "      <td>...</td>\n",
       "      <td>...</td>\n",
       "      <td>...</td>\n",
       "      <td>...</td>\n",
       "      <td>...</td>\n",
       "      <td>...</td>\n",
       "      <td>...</td>\n",
       "      <td>...</td>\n",
       "      <td>...</td>\n",
       "      <td>...</td>\n",
       "      <td>...</td>\n",
       "      <td>...</td>\n",
       "      <td>...</td>\n",
       "      <td>...</td>\n",
       "    </tr>\n",
       "    <tr>\n",
       "      <th>600</th>\n",
       "      <td>uw61891007</td>\n",
       "      <td>2022-12-22T11:49:57.230000Z</td>\n",
       "      <td>40.408</td>\n",
       "      <td>-124.268</td>\n",
       "      <td>earthquake</td>\n",
       "      <td>24.48</td>\n",
       "      <td>3.8</td>\n",
       "      <td>Mh</td>\n",
       "      <td>1.78</td>\n",
       "      <td>1.66</td>\n",
       "      <td>UO</td>\n",
       "      <td>HH</td>\n",
       "      <td>DFAZ</td>\n",
       "      <td>--</td>\n",
       "      <td>43.2406</td>\n",
       "      <td>-122.109</td>\n",
       "      <td>1948.00</td>\n",
       "      <td>bucket1$600,:3,:25001</td>\n",
       "      <td>100</td>\n",
       "      <td>2022-12-22T11:49:07.230000Z</td>\n",
       "      <td>9945</td>\n",
       "      <td>0.30</td>\n",
       "      <td>undecidable</td>\n",
       "      <td>emergent</td>\n",
       "    </tr>\n",
       "    <tr>\n",
       "      <th>601</th>\n",
       "      <td>uw61891007</td>\n",
       "      <td>2022-12-22T11:49:57.230000Z</td>\n",
       "      <td>40.408</td>\n",
       "      <td>-124.268</td>\n",
       "      <td>earthquake</td>\n",
       "      <td>24.48</td>\n",
       "      <td>3.8</td>\n",
       "      <td>Mh</td>\n",
       "      <td>1.78</td>\n",
       "      <td>1.66</td>\n",
       "      <td>PB</td>\n",
       "      <td>EH</td>\n",
       "      <td>B031</td>\n",
       "      <td>--</td>\n",
       "      <td>43.6643</td>\n",
       "      <td>-123.397</td>\n",
       "      <td>71.00</td>\n",
       "      <td>bucket1$601,:3,:25001</td>\n",
       "      <td>100</td>\n",
       "      <td>2022-12-22T11:49:07.230000Z</td>\n",
       "      <td>9946</td>\n",
       "      <td>0.15</td>\n",
       "      <td>undecidable</td>\n",
       "      <td>emergent</td>\n",
       "    </tr>\n",
       "    <tr>\n",
       "      <th>602</th>\n",
       "      <td>uw61891007</td>\n",
       "      <td>2022-12-22T11:49:57.230000Z</td>\n",
       "      <td>40.408</td>\n",
       "      <td>-124.268</td>\n",
       "      <td>earthquake</td>\n",
       "      <td>24.48</td>\n",
       "      <td>3.8</td>\n",
       "      <td>Mh</td>\n",
       "      <td>1.78</td>\n",
       "      <td>1.66</td>\n",
       "      <td>PB</td>\n",
       "      <td>EH</td>\n",
       "      <td>B032</td>\n",
       "      <td>--</td>\n",
       "      <td>43.668</td>\n",
       "      <td>-123.392</td>\n",
       "      <td>63.80</td>\n",
       "      <td>bucket1$602,:3,:25001</td>\n",
       "      <td>100</td>\n",
       "      <td>2022-12-22T11:49:07.230000Z</td>\n",
       "      <td>9930</td>\n",
       "      <td>0.06</td>\n",
       "      <td>positive</td>\n",
       "      <td>impulsive</td>\n",
       "    </tr>\n",
       "    <tr>\n",
       "      <th>603</th>\n",
       "      <td>uw61891007</td>\n",
       "      <td>2022-12-22T11:49:57.230000Z</td>\n",
       "      <td>40.408</td>\n",
       "      <td>-124.268</td>\n",
       "      <td>earthquake</td>\n",
       "      <td>24.48</td>\n",
       "      <td>3.8</td>\n",
       "      <td>Mh</td>\n",
       "      <td>1.78</td>\n",
       "      <td>1.66</td>\n",
       "      <td>UO</td>\n",
       "      <td>HH</td>\n",
       "      <td>DRAN</td>\n",
       "      <td>--</td>\n",
       "      <td>43.6972</td>\n",
       "      <td>-123.349</td>\n",
       "      <td>140.60</td>\n",
       "      <td>bucket1$603,:3,:25001</td>\n",
       "      <td>100</td>\n",
       "      <td>2022-12-22T11:49:07.230000Z</td>\n",
       "      <td>9989</td>\n",
       "      <td>0.06</td>\n",
       "      <td>positive</td>\n",
       "      <td>impulsive</td>\n",
       "    </tr>\n",
       "    <tr>\n",
       "      <th>604</th>\n",
       "      <td>uw61891007</td>\n",
       "      <td>2022-12-22T11:49:57.230000Z</td>\n",
       "      <td>40.408</td>\n",
       "      <td>-124.268</td>\n",
       "      <td>earthquake</td>\n",
       "      <td>24.48</td>\n",
       "      <td>3.8</td>\n",
       "      <td>Mh</td>\n",
       "      <td>1.78</td>\n",
       "      <td>1.66</td>\n",
       "      <td>UW</td>\n",
       "      <td>EH</td>\n",
       "      <td>LKVW</td>\n",
       "      <td>--</td>\n",
       "      <td>42.2257</td>\n",
       "      <td>-120.357</td>\n",
       "      <td>1546.70</td>\n",
       "      <td>bucket1$604,:3,:25001</td>\n",
       "      <td>100</td>\n",
       "      <td>2022-12-22T11:49:07.230000Z</td>\n",
       "      <td>10082</td>\n",
       "      <td>0.06</td>\n",
       "      <td>positive</td>\n",
       "      <td>impulsive</td>\n",
       "    </tr>\n",
       "  </tbody>\n",
       "</table>\n",
       "<p>605 rows × 24 columns</p>\n",
       "</div>"
      ],
      "text/plain": [
       "       event_id           source_origin_time  source_latitude_deg  \\\n",
       "0    uw61899326  2022-12-20T13:35:04.490000Z               40.549   \n",
       "1    uw61899326  2022-12-20T13:35:04.490000Z               40.549   \n",
       "2    uw61899326  2022-12-20T13:35:04.490000Z               40.549   \n",
       "3    uw61899326  2022-12-20T13:35:04.490000Z               40.549   \n",
       "4    uw61899326  2022-12-20T13:35:04.490000Z               40.549   \n",
       "..          ...                          ...                  ...   \n",
       "600  uw61891007  2022-12-22T11:49:57.230000Z               40.408   \n",
       "601  uw61891007  2022-12-22T11:49:57.230000Z               40.408   \n",
       "602  uw61891007  2022-12-22T11:49:57.230000Z               40.408   \n",
       "603  uw61891007  2022-12-22T11:49:57.230000Z               40.408   \n",
       "604  uw61891007  2022-12-22T11:49:57.230000Z               40.408   \n",
       "\n",
       "     source_longitude_deg source_type  source_depth_km  source_magnitude  \\\n",
       "0                -124.400  earthquake             8.88               3.4   \n",
       "1                -124.400  earthquake             8.88               3.4   \n",
       "2                -124.400  earthquake             8.88               3.4   \n",
       "3                -124.400  earthquake             8.88               3.4   \n",
       "4                -124.400  earthquake             8.88               3.4   \n",
       "..                    ...         ...              ...               ...   \n",
       "600              -124.268  earthquake            24.48               3.8   \n",
       "601              -124.268  earthquake            24.48               3.8   \n",
       "602              -124.268  earthquake            24.48               3.8   \n",
       "603              -124.268  earthquake            24.48               3.8   \n",
       "604              -124.268  earthquake            24.48               3.8   \n",
       "\n",
       "    source_magnitude_type  source_depth_uncertainty_km  \\\n",
       "0                      Mh                        31.61   \n",
       "1                      Mh                        31.61   \n",
       "2                      Mh                        31.61   \n",
       "3                      Mh                        31.61   \n",
       "4                      Mh                        31.61   \n",
       "..                    ...                          ...   \n",
       "600                    Mh                         1.78   \n",
       "601                    Mh                         1.78   \n",
       "602                    Mh                         1.78   \n",
       "603                    Mh                         1.78   \n",
       "604                    Mh                         1.78   \n",
       "\n",
       "     source_horizontal_uncertainty_km station_network_code trace_channel  \\\n",
       "0                               11.17                   BK            HH   \n",
       "1                               11.17                   NC            HH   \n",
       "2                               11.17                   UO            HH   \n",
       "3                               11.17                   UO            HH   \n",
       "4                               11.17                   PB            EH   \n",
       "..                                ...                  ...           ...   \n",
       "600                              1.66                   UO            HH   \n",
       "601                              1.66                   PB            EH   \n",
       "602                              1.66                   PB            EH   \n",
       "603                              1.66                   UO            HH   \n",
       "604                              1.66                   UW            EH   \n",
       "\n",
       "    station_code station_location_code station_latitude_deg  \\\n",
       "0            YBH                    00                  TBA   \n",
       "1           KSXB                    --                  TBA   \n",
       "2           CAVE                    --              42.1209   \n",
       "3           SISQ                    --              42.2754   \n",
       "4           B040                    --              41.8308   \n",
       "..           ...                   ...                  ...   \n",
       "600         DFAZ                    --              43.2406   \n",
       "601         B031                    --              43.6643   \n",
       "602         B032                    --               43.668   \n",
       "603         DRAN                    --              43.6972   \n",
       "604         LKVW                    --              42.2257   \n",
       "\n",
       "    station_longitude_deg station_elevation_m             trace_name  \\\n",
       "0                     TBA                 TBA    bucket1$0,:3,:25001   \n",
       "1                     TBA                 TBA    bucket1$1,:3,:25001   \n",
       "2                -123.571              440.00    bucket1$2,:3,:25001   \n",
       "3                -123.632              395.00    bucket1$3,:3,:25001   \n",
       "4                -122.421              819.50    bucket1$4,:3,:25001   \n",
       "..                    ...                 ...                    ...   \n",
       "600              -122.109             1948.00  bucket1$600,:3,:25001   \n",
       "601              -123.397               71.00  bucket1$601,:3,:25001   \n",
       "602              -123.392               63.80  bucket1$602,:3,:25001   \n",
       "603              -123.349              140.60  bucket1$603,:3,:25001   \n",
       "604              -120.357             1546.70  bucket1$604,:3,:25001   \n",
       "\n",
       "     trace_sampling_rate_hz             trace_start_time  \\\n",
       "0                       100  2022-12-20T13:34:14.490000Z   \n",
       "1                       100  2022-12-20T13:34:14.490000Z   \n",
       "2                       100  2022-12-20T13:34:14.490000Z   \n",
       "3                       100  2022-12-20T13:34:14.490000Z   \n",
       "4                       100  2022-12-20T13:34:14.490000Z   \n",
       "..                      ...                          ...   \n",
       "600                     100  2022-12-22T11:49:07.230000Z   \n",
       "601                     100  2022-12-22T11:49:07.230000Z   \n",
       "602                     100  2022-12-22T11:49:07.230000Z   \n",
       "603                     100  2022-12-22T11:49:07.230000Z   \n",
       "604                     100  2022-12-22T11:49:07.230000Z   \n",
       "\n",
       "     trace_P_arrival_sample  trace_P_arrival_uncertainty_s trace_P_polarity  \\\n",
       "0                      7929                           0.06         positive   \n",
       "1                      7365                           0.03         positive   \n",
       "2                      7856                           0.03         positive   \n",
       "3                      8084                           0.03         negative   \n",
       "4                      8306                           0.03         positive   \n",
       "..                      ...                            ...              ...   \n",
       "600                    9945                           0.30      undecidable   \n",
       "601                    9946                           0.15      undecidable   \n",
       "602                    9930                           0.06         positive   \n",
       "603                    9989                           0.06         positive   \n",
       "604                   10082                           0.06         positive   \n",
       "\n",
       "    trace_P_onset  \n",
       "0       impulsive  \n",
       "1       impulsive  \n",
       "2       impulsive  \n",
       "3       impulsive  \n",
       "4       impulsive  \n",
       "..            ...  \n",
       "600      emergent  \n",
       "601      emergent  \n",
       "602     impulsive  \n",
       "603     impulsive  \n",
       "604     impulsive  \n",
       "\n",
       "[605 rows x 24 columns]"
      ]
     },
     "execution_count": 4,
     "metadata": {},
     "output_type": "execute_result"
    }
   ],
   "source": [
    "df = pd.read_csv(df_path)\n",
    "df"
   ]
  },
  {
   "cell_type": "markdown",
   "id": "d6e3950f",
   "metadata": {},
   "source": [
    "## check location "
   ]
  },
  {
   "cell_type": "code",
   "execution_count": 5,
   "id": "7ad4ef35",
   "metadata": {},
   "outputs": [
    {
     "data": {
      "text/plain": [
       "array(['00', '--', '03', '01'], dtype=object)"
      ]
     },
     "execution_count": 5,
     "metadata": {},
     "output_type": "execute_result"
    }
   ],
   "source": [
    "df['station_location_code'].unique()"
   ]
  },
  {
   "cell_type": "code",
   "execution_count": 33,
   "id": "fcdf2a6a",
   "metadata": {},
   "outputs": [],
   "source": [
    "df.iloc[df[pd.isna(df['station_location_code'])].index, 13] = '--'\n",
    "df.iloc[df[df['station_location_code'] == 0.0].index, 13] = \"00\"\n",
    "df.iloc[df[df['station_location_code'] == 3.0].index, 13] = \"03\"\n",
    "df.iloc[df[df['station_location_code'] == 1.0].index, 13] = \"01\""
   ]
  },
  {
   "cell_type": "code",
   "execution_count": 34,
   "id": "8c7e73ca",
   "metadata": {},
   "outputs": [],
   "source": [
    "df.to_csv(df_path, sep = ',', index=False)"
   ]
  },
  {
   "cell_type": "code",
   "execution_count": 63,
   "id": "002518c3",
   "metadata": {},
   "outputs": [],
   "source": [
    "df = pd.read_csv(\"/data/whd01/yiyu_data/PNWML/extract/noise_metadata.csv\")\n",
    "# df.iloc[df[(df['station_code'] == 'EPH2') & (df['trace_channel'] == 'EH')].index, 2] = \"HH\"\n",
    "# df.to_csv(\"/data/whd01/yiyu_data/PNWML/extract/noise_metadata.csv\", sep = ',', index=False)"
   ]
  },
  {
   "cell_type": "markdown",
   "id": "09cb5488",
   "metadata": {},
   "source": [
    "## add lat lon elevation"
   ]
  },
  {
   "cell_type": "code",
   "execution_count": 6,
   "id": "e1283947",
   "metadata": {},
   "outputs": [],
   "source": [
    "df = pd.read_csv(df_path)"
   ]
  },
  {
   "cell_type": "code",
   "execution_count": 7,
   "id": "5d6e2ff7",
   "metadata": {
    "scrolled": true
   },
   "outputs": [
    {
     "name": "stderr",
     "output_type": "stream",
     "text": [
      "  0%|          | 3/605 [00:00<00:27, 21.91it/s]"
     ]
    },
    {
     "name": "stdout",
     "output_type": "stream",
     "text": [
      "0\n",
      "1\n"
     ]
    },
    {
     "name": "stderr",
     "output_type": "stream",
     "text": [
      "  4%|▍         | 24/605 [00:01<00:25, 22.88it/s]"
     ]
    },
    {
     "name": "stdout",
     "output_type": "stream",
     "text": [
      "20\n",
      "21\n"
     ]
    },
    {
     "name": "stderr",
     "output_type": "stream",
     "text": [
      "  6%|▌         | 36/605 [00:01<00:24, 22.96it/s]"
     ]
    },
    {
     "name": "stdout",
     "output_type": "stream",
     "text": [
      "33\n",
      "36\n",
      "37\n"
     ]
    },
    {
     "name": "stderr",
     "output_type": "stream",
     "text": [
      "  7%|▋         | 42/605 [00:01<00:24, 22.93it/s]"
     ]
    },
    {
     "name": "stdout",
     "output_type": "stream",
     "text": [
      "38\n",
      "39\n",
      "40\n",
      "41\n",
      "42\n"
     ]
    },
    {
     "name": "stderr",
     "output_type": "stream",
     "text": [
      "  8%|▊         | 48/605 [00:02<00:24, 22.92it/s]"
     ]
    },
    {
     "name": "stdout",
     "output_type": "stream",
     "text": [
      "43\n",
      "44\n",
      "45\n",
      "46\n"
     ]
    },
    {
     "name": "stderr",
     "output_type": "stream",
     "text": [
      "\r",
      "  8%|▊         | 51/605 [00:02<00:24, 22.89it/s]"
     ]
    },
    {
     "name": "stdout",
     "output_type": "stream",
     "text": [
      "48\n",
      "50\n"
     ]
    },
    {
     "name": "stderr",
     "output_type": "stream",
     "text": [
      " 11%|█▏        | 69/605 [00:03<00:23, 22.89it/s]"
     ]
    },
    {
     "name": "stdout",
     "output_type": "stream",
     "text": [
      "64\n",
      "65\n",
      "66\n",
      "67\n",
      "68\n"
     ]
    },
    {
     "name": "stderr",
     "output_type": "stream",
     "text": [
      "\r",
      " 12%|█▏        | 72/605 [00:03<00:23, 22.83it/s]"
     ]
    },
    {
     "name": "stdout",
     "output_type": "stream",
     "text": [
      "69\n",
      "70\n",
      "71\n",
      "72\n",
      "73\n"
     ]
    },
    {
     "name": "stderr",
     "output_type": "stream",
     "text": [
      " 13%|█▎        | 81/605 [00:03<00:22, 22.98it/s]"
     ]
    },
    {
     "name": "stdout",
     "output_type": "stream",
     "text": [
      "78\n",
      "80\n"
     ]
    },
    {
     "name": "stderr",
     "output_type": "stream",
     "text": [
      " 15%|█▌        | 93/605 [00:04<00:22, 22.96it/s]"
     ]
    },
    {
     "name": "stdout",
     "output_type": "stream",
     "text": [
      "90\n"
     ]
    },
    {
     "name": "stderr",
     "output_type": "stream",
     "text": [
      " 25%|██▍       | 150/605 [00:06<00:19, 22.96it/s]"
     ]
    },
    {
     "name": "stdout",
     "output_type": "stream",
     "text": [
      "146\n",
      "149\n",
      "150\n"
     ]
    },
    {
     "name": "stderr",
     "output_type": "stream",
     "text": [
      " 26%|██▌       | 156/605 [00:06<00:19, 23.00it/s]"
     ]
    },
    {
     "name": "stdout",
     "output_type": "stream",
     "text": [
      "151\n",
      "152\n",
      "153\n",
      "154\n",
      "155\n"
     ]
    },
    {
     "name": "stderr",
     "output_type": "stream",
     "text": [
      "\r",
      " 26%|██▋       | 159/605 [00:06<00:19, 23.02it/s]"
     ]
    },
    {
     "name": "stdout",
     "output_type": "stream",
     "text": [
      "156\n",
      "157\n",
      "158\n",
      "159\n"
     ]
    },
    {
     "name": "stderr",
     "output_type": "stream",
     "text": [
      " 27%|██▋       | 165/605 [00:07<00:19, 22.95it/s]"
     ]
    },
    {
     "name": "stdout",
     "output_type": "stream",
     "text": [
      "161\n",
      "162\n"
     ]
    },
    {
     "name": "stderr",
     "output_type": "stream",
     "text": [
      " 29%|██▉       | 174/605 [00:07<00:18, 22.98it/s]"
     ]
    },
    {
     "name": "stdout",
     "output_type": "stream",
     "text": [
      "169\n"
     ]
    },
    {
     "name": "stderr",
     "output_type": "stream",
     "text": [
      " 33%|███▎      | 198/605 [00:08<00:17, 22.95it/s]"
     ]
    },
    {
     "name": "stdout",
     "output_type": "stream",
     "text": [
      "193\n"
     ]
    },
    {
     "name": "stderr",
     "output_type": "stream",
     "text": [
      " 40%|███▉      | 240/605 [00:10<00:15, 22.87it/s]"
     ]
    },
    {
     "name": "stdout",
     "output_type": "stream",
     "text": [
      "235\n",
      "236\n",
      "237\n",
      "238\n",
      "239\n"
     ]
    },
    {
     "name": "stderr",
     "output_type": "stream",
     "text": [
      "\r",
      " 40%|████      | 243/605 [00:10<00:15, 22.90it/s]"
     ]
    },
    {
     "name": "stdout",
     "output_type": "stream",
     "text": [
      "240\n",
      "241\n",
      "242\n",
      "243\n",
      "244\n"
     ]
    },
    {
     "name": "stderr",
     "output_type": "stream",
     "text": [
      " 42%|████▏     | 252/605 [00:10<00:15, 22.98it/s]"
     ]
    },
    {
     "name": "stdout",
     "output_type": "stream",
     "text": [
      "247\n",
      "250\n"
     ]
    },
    {
     "name": "stderr",
     "output_type": "stream",
     "text": [
      " 47%|████▋     | 282/605 [00:12<00:14, 22.95it/s]"
     ]
    },
    {
     "name": "stdout",
     "output_type": "stream",
     "text": [
      "278\n"
     ]
    },
    {
     "name": "stderr",
     "output_type": "stream",
     "text": [
      " 48%|████▊     | 291/605 [00:12<00:13, 22.98it/s]"
     ]
    },
    {
     "name": "stdout",
     "output_type": "stream",
     "text": [
      "286\n",
      "287\n"
     ]
    },
    {
     "name": "stderr",
     "output_type": "stream",
     "text": [
      " 50%|█████     | 303/605 [00:13<00:13, 22.84it/s]"
     ]
    },
    {
     "name": "stdout",
     "output_type": "stream",
     "text": [
      "300\n",
      "303\n",
      "304\n"
     ]
    },
    {
     "name": "stderr",
     "output_type": "stream",
     "text": [
      " 53%|█████▎    | 318/605 [00:13<00:12, 22.92it/s]"
     ]
    },
    {
     "name": "stdout",
     "output_type": "stream",
     "text": [
      "314\n",
      "315\n",
      "316\n",
      "317\n",
      "318\n"
     ]
    },
    {
     "name": "stderr",
     "output_type": "stream",
     "text": [
      " 54%|█████▎    | 324/605 [00:14<00:12, 22.95it/s]"
     ]
    },
    {
     "name": "stdout",
     "output_type": "stream",
     "text": [
      "319\n",
      "320\n",
      "321\n",
      "322\n"
     ]
    },
    {
     "name": "stderr",
     "output_type": "stream",
     "text": [
      " 55%|█████▍    | 330/605 [00:14<00:12, 22.64it/s]"
     ]
    },
    {
     "name": "stdout",
     "output_type": "stream",
     "text": [
      "326\n",
      "327\n",
      "330\n"
     ]
    },
    {
     "name": "stderr",
     "output_type": "stream",
     "text": [
      " 57%|█████▋    | 342/605 [00:14<00:11, 22.89it/s]"
     ]
    },
    {
     "name": "stdout",
     "output_type": "stream",
     "text": [
      "338\n",
      "342\n"
     ]
    },
    {
     "name": "stderr",
     "output_type": "stream",
     "text": [
      " 62%|██████▏   | 375/605 [00:16<00:10, 22.78it/s]"
     ]
    },
    {
     "name": "stdout",
     "output_type": "stream",
     "text": [
      "371\n",
      "372\n"
     ]
    },
    {
     "name": "stderr",
     "output_type": "stream",
     "text": [
      " 64%|██████▍   | 387/605 [00:16<00:09, 23.02it/s]"
     ]
    },
    {
     "name": "stdout",
     "output_type": "stream",
     "text": [
      "382\n",
      "383\n",
      "384\n",
      "385\n",
      "386\n"
     ]
    },
    {
     "name": "stderr",
     "output_type": "stream",
     "text": [
      "\r",
      " 64%|██████▍   | 390/605 [00:17<00:09, 22.87it/s]"
     ]
    },
    {
     "name": "stdout",
     "output_type": "stream",
     "text": [
      "387\n",
      "388\n",
      "389\n"
     ]
    },
    {
     "name": "stderr",
     "output_type": "stream",
     "text": [
      " 65%|██████▌   | 396/605 [00:17<00:09, 22.96it/s]"
     ]
    },
    {
     "name": "stdout",
     "output_type": "stream",
     "text": [
      "392\n",
      "395\n"
     ]
    },
    {
     "name": "stderr",
     "output_type": "stream",
     "text": [
      " 66%|██████▋   | 402/605 [00:17<00:08, 23.10it/s]"
     ]
    },
    {
     "name": "stdout",
     "output_type": "stream",
     "text": [
      "397\n",
      "400\n"
     ]
    },
    {
     "name": "stderr",
     "output_type": "stream",
     "text": [
      " 68%|██████▊   | 414/605 [00:18<00:08, 23.02it/s]"
     ]
    },
    {
     "name": "stdout",
     "output_type": "stream",
     "text": [
      "409\n",
      "410\n",
      "411\n",
      "412\n",
      "413\n"
     ]
    },
    {
     "name": "stderr",
     "output_type": "stream",
     "text": [
      "\r",
      " 69%|██████▉   | 417/605 [00:18<00:08, 23.01it/s]"
     ]
    },
    {
     "name": "stdout",
     "output_type": "stream",
     "text": [
      "414\n"
     ]
    },
    {
     "name": "stderr",
     "output_type": "stream",
     "text": [
      " 70%|███████   | 426/605 [00:18<00:07, 23.01it/s]"
     ]
    },
    {
     "name": "stdout",
     "output_type": "stream",
     "text": [
      "423\n",
      "424\n",
      "425\n",
      "426\n",
      "427\n"
     ]
    },
    {
     "name": "stderr",
     "output_type": "stream",
     "text": [
      " 71%|███████▏  | 432/605 [00:18<00:07, 23.02it/s]"
     ]
    },
    {
     "name": "stdout",
     "output_type": "stream",
     "text": [
      "428\n",
      "429\n",
      "430\n",
      "431\n",
      "432\n"
     ]
    },
    {
     "name": "stderr",
     "output_type": "stream",
     "text": [
      " 77%|███████▋  | 465/605 [00:20<00:06, 22.88it/s]"
     ]
    },
    {
     "name": "stdout",
     "output_type": "stream",
     "text": [
      "462\n",
      "465\n"
     ]
    },
    {
     "name": "stderr",
     "output_type": "stream",
     "text": [
      " 79%|███████▉  | 480/605 [00:20<00:05, 22.97it/s]"
     ]
    },
    {
     "name": "stdout",
     "output_type": "stream",
     "text": [
      "477\n",
      "478\n",
      "479\n",
      "480\n",
      "481\n"
     ]
    },
    {
     "name": "stderr",
     "output_type": "stream",
     "text": [
      " 80%|████████  | 486/605 [00:21<00:05, 22.95it/s]"
     ]
    },
    {
     "name": "stdout",
     "output_type": "stream",
     "text": [
      "482\n",
      "483\n",
      "484\n",
      "485\n",
      "486\n"
     ]
    },
    {
     "name": "stderr",
     "output_type": "stream",
     "text": [
      " 82%|████████▏ | 495/605 [00:21<00:04, 23.01it/s]"
     ]
    },
    {
     "name": "stdout",
     "output_type": "stream",
     "text": [
      "490\n",
      "493\n"
     ]
    },
    {
     "name": "stderr",
     "output_type": "stream",
     "text": [
      " 84%|████████▍ | 510/605 [00:22<00:04, 23.00it/s]"
     ]
    },
    {
     "name": "stdout",
     "output_type": "stream",
     "text": [
      "505\n",
      "507\n"
     ]
    },
    {
     "name": "stderr",
     "output_type": "stream",
     "text": [
      " 87%|████████▋ | 525/605 [00:22<00:03, 23.00it/s]"
     ]
    },
    {
     "name": "stdout",
     "output_type": "stream",
     "text": [
      "521\n",
      "523\n"
     ]
    },
    {
     "name": "stderr",
     "output_type": "stream",
     "text": [
      " 89%|████████▉ | 537/605 [00:23<00:02, 22.92it/s]"
     ]
    },
    {
     "name": "stdout",
     "output_type": "stream",
     "text": [
      "533\n",
      "534\n"
     ]
    },
    {
     "name": "stderr",
     "output_type": "stream",
     "text": [
      " 91%|█████████ | 549/605 [00:23<00:02, 22.86it/s]"
     ]
    },
    {
     "name": "stdout",
     "output_type": "stream",
     "text": [
      "545\n",
      "547\n"
     ]
    },
    {
     "name": "stderr",
     "output_type": "stream",
     "text": [
      " 93%|█████████▎| 561/605 [00:24<00:01, 22.95it/s]"
     ]
    },
    {
     "name": "stdout",
     "output_type": "stream",
     "text": [
      "558\n",
      "559\n",
      "560\n",
      "561\n",
      "562\n"
     ]
    },
    {
     "name": "stderr",
     "output_type": "stream",
     "text": [
      " 94%|█████████▎| 567/605 [00:24<00:01, 22.97it/s]"
     ]
    },
    {
     "name": "stdout",
     "output_type": "stream",
     "text": [
      "563\n",
      "564\n",
      "565\n",
      "566\n"
     ]
    },
    {
     "name": "stderr",
     "output_type": "stream",
     "text": [
      " 95%|█████████▍| 573/605 [00:24<00:01, 23.06it/s]"
     ]
    },
    {
     "name": "stdout",
     "output_type": "stream",
     "text": [
      "569\n",
      "572\n"
     ]
    },
    {
     "name": "stderr",
     "output_type": "stream",
     "text": [
      " 96%|█████████▌| 582/605 [00:25<00:00, 23.02it/s]"
     ]
    },
    {
     "name": "stdout",
     "output_type": "stream",
     "text": [
      "579\n"
     ]
    },
    {
     "name": "stderr",
     "output_type": "stream",
     "text": [
      "100%|██████████| 605/605 [00:26<00:00, 22.93it/s]\n"
     ]
    }
   ],
   "source": [
    "error = []\n",
    "for idx, i in tqdm(df.iterrows(), total = len(df)):\n",
    "#     if df.iloc[idx, 14] == \"TBA\":\n",
    "    if True:\n",
    "        network = df.iloc[idx, 10]\n",
    "        station = df.iloc[idx, 12]\n",
    "        channel = df.iloc[idx, 11] + \"Z\"\n",
    "        time = UTCDateTime(df.iloc[idx, 19])\n",
    "        result = stationclient.query(network = network, station = station, channel = channel, time = time)\n",
    "        \n",
    "        try:\n",
    "            assert len(result) >= 1\n",
    "            df.iloc[idx, 14] = result.iloc[0, 5]         # latitude\n",
    "            df.iloc[idx, 15] = result.iloc[0, 6]         # longitude\n",
    "            df.iloc[idx, 16] = result.iloc[0, 7]         # elevation\n",
    "            \n",
    "        except:\n",
    "            print(idx)\n",
    "            error.append([idx, i])"
   ]
  },
  {
   "cell_type": "code",
   "execution_count": 9,
   "id": "d6711fc1",
   "metadata": {},
   "outputs": [],
   "source": [
    "from obspy.clients.fdsn.client import Client\n",
    "from obspy.clients.fdsn.header import URL_MAPPINGS\n",
    "URL_MAPPINGS['NCEDC'] = \"https://service.ncedc.org\""
   ]
  },
  {
   "cell_type": "code",
   "execution_count": 10,
   "id": "f235982c",
   "metadata": {},
   "outputs": [],
   "source": [
    "ncedc = Client(\"NCEDC\")"
   ]
  },
  {
   "cell_type": "code",
   "execution_count": 36,
   "id": "1b1c4481",
   "metadata": {},
   "outputs": [
    {
     "name": "stderr",
     "output_type": "stream",
     "text": [
      "  0%|          | 0/605 [00:00<?, ?it/s]/home/niyiyu/anaconda3/envs/seisml/lib/python3.8/site-packages/obspy/io/stationxml/core.py:96: UserWarning: The StationXML file has version 1.2, ObsPy can read versions (1.0, 1.1). Proceed with caution.\n",
      "  warnings.warn(\"The StationXML file has version %s, ObsPy can \"\n",
      "  0%|          | 1/605 [00:00<07:06,  1.42it/s]/home/niyiyu/anaconda3/envs/seisml/lib/python3.8/site-packages/obspy/io/stationxml/core.py:96: UserWarning: The StationXML file has version 1.2, ObsPy can read versions (1.0, 1.1). Proceed with caution.\n",
      "  warnings.warn(\"The StationXML file has version %s, ObsPy can \"\n",
      "  0%|          | 2/605 [00:01<06:44,  1.49it/s]/home/niyiyu/anaconda3/envs/seisml/lib/python3.8/site-packages/obspy/io/stationxml/core.py:96: UserWarning: The StationXML file has version 1.2, ObsPy can read versions (1.0, 1.1). Proceed with caution.\n",
      "  warnings.warn(\"The StationXML file has version %s, ObsPy can \"\n",
      "  3%|▎         | 21/605 [00:02<00:43, 13.50it/s]/home/niyiyu/anaconda3/envs/seisml/lib/python3.8/site-packages/obspy/io/stationxml/core.py:96: UserWarning: The StationXML file has version 1.2, ObsPy can read versions (1.0, 1.1). Proceed with caution.\n",
      "  warnings.warn(\"The StationXML file has version %s, ObsPy can \"\n",
      "  4%|▍         | 23/605 [00:02<01:01,  9.52it/s]/home/niyiyu/anaconda3/envs/seisml/lib/python3.8/site-packages/obspy/io/stationxml/core.py:96: UserWarning: The StationXML file has version 1.2, ObsPy can read versions (1.0, 1.1). Proceed with caution.\n",
      "  warnings.warn(\"The StationXML file has version %s, ObsPy can \"\n",
      "  6%|▌         | 34/605 [00:03<00:48, 11.84it/s]/home/niyiyu/anaconda3/envs/seisml/lib/python3.8/site-packages/obspy/io/stationxml/core.py:96: UserWarning: The StationXML file has version 1.2, ObsPy can read versions (1.0, 1.1). Proceed with caution.\n",
      "  warnings.warn(\"The StationXML file has version %s, ObsPy can \"\n",
      "  6%|▌         | 37/605 [00:04<01:04,  8.76it/s]/home/niyiyu/anaconda3/envs/seisml/lib/python3.8/site-packages/obspy/io/stationxml/core.py:96: UserWarning: The StationXML file has version 1.2, ObsPy can read versions (1.0, 1.1). Proceed with caution.\n",
      "  warnings.warn(\"The StationXML file has version %s, ObsPy can \"\n",
      "  6%|▋         | 38/605 [00:04<01:26,  6.57it/s]/home/niyiyu/anaconda3/envs/seisml/lib/python3.8/site-packages/obspy/io/stationxml/core.py:96: UserWarning: The StationXML file has version 1.2, ObsPy can read versions (1.0, 1.1). Proceed with caution.\n",
      "  warnings.warn(\"The StationXML file has version %s, ObsPy can \"\n",
      "  6%|▋         | 39/605 [00:05<01:52,  5.05it/s]/home/niyiyu/anaconda3/envs/seisml/lib/python3.8/site-packages/obspy/io/stationxml/core.py:96: UserWarning: The StationXML file has version 1.2, ObsPy can read versions (1.0, 1.1). Proceed with caution.\n",
      "  warnings.warn(\"The StationXML file has version %s, ObsPy can \"\n",
      "  7%|▋         | 40/605 [00:06<02:21,  4.00it/s]/home/niyiyu/anaconda3/envs/seisml/lib/python3.8/site-packages/obspy/io/stationxml/core.py:96: UserWarning: The StationXML file has version 1.2, ObsPy can read versions (1.0, 1.1). Proceed with caution.\n",
      "  warnings.warn(\"The StationXML file has version %s, ObsPy can \"\n",
      "  7%|▋         | 41/605 [00:06<02:57,  3.18it/s]/home/niyiyu/anaconda3/envs/seisml/lib/python3.8/site-packages/obspy/io/stationxml/core.py:96: UserWarning: The StationXML file has version 1.2, ObsPy can read versions (1.0, 1.1). Proceed with caution.\n",
      "  warnings.warn(\"The StationXML file has version %s, ObsPy can \"\n",
      "  7%|▋         | 42/605 [00:07<03:33,  2.64it/s]/home/niyiyu/anaconda3/envs/seisml/lib/python3.8/site-packages/obspy/io/stationxml/core.py:96: UserWarning: The StationXML file has version 1.2, ObsPy can read versions (1.0, 1.1). Proceed with caution.\n",
      "  warnings.warn(\"The StationXML file has version %s, ObsPy can \"\n",
      "  7%|▋         | 43/605 [00:08<04:07,  2.27it/s]/home/niyiyu/anaconda3/envs/seisml/lib/python3.8/site-packages/obspy/io/stationxml/core.py:96: UserWarning: The StationXML file has version 1.2, ObsPy can read versions (1.0, 1.1). Proceed with caution.\n",
      "  warnings.warn(\"The StationXML file has version %s, ObsPy can \"\n",
      "  7%|▋         | 44/605 [00:08<04:38,  2.01it/s]/home/niyiyu/anaconda3/envs/seisml/lib/python3.8/site-packages/obspy/io/stationxml/core.py:96: UserWarning: The StationXML file has version 1.2, ObsPy can read versions (1.0, 1.1). Proceed with caution.\n",
      "  warnings.warn(\"The StationXML file has version %s, ObsPy can \"\n",
      "  7%|▋         | 45/605 [00:09<05:04,  1.84it/s]/home/niyiyu/anaconda3/envs/seisml/lib/python3.8/site-packages/obspy/io/stationxml/core.py:96: UserWarning: The StationXML file has version 1.2, ObsPy can read versions (1.0, 1.1). Proceed with caution.\n",
      "  warnings.warn(\"The StationXML file has version %s, ObsPy can \"\n",
      "  8%|▊         | 46/605 [00:10<05:29,  1.70it/s]/home/niyiyu/anaconda3/envs/seisml/lib/python3.8/site-packages/obspy/io/stationxml/core.py:96: UserWarning: The StationXML file has version 1.2, ObsPy can read versions (1.0, 1.1). Proceed with caution.\n",
      "  warnings.warn(\"The StationXML file has version %s, ObsPy can \"\n",
      "  8%|▊         | 47/605 [00:11<05:44,  1.62it/s]/home/niyiyu/anaconda3/envs/seisml/lib/python3.8/site-packages/obspy/io/stationxml/core.py:96: UserWarning: The StationXML file has version 1.2, ObsPy can read versions (1.0, 1.1). Proceed with caution.\n",
      "  warnings.warn(\"The StationXML file has version %s, ObsPy can \"\n",
      "  8%|▊         | 49/605 [00:11<04:32,  2.04it/s]/home/niyiyu/anaconda3/envs/seisml/lib/python3.8/site-packages/obspy/io/stationxml/core.py:96: UserWarning: The StationXML file has version 1.2, ObsPy can read versions (1.0, 1.1). Proceed with caution.\n",
      "  warnings.warn(\"The StationXML file has version %s, ObsPy can \"\n",
      "  8%|▊         | 51/605 [00:12<03:56,  2.34it/s]/home/niyiyu/anaconda3/envs/seisml/lib/python3.8/site-packages/obspy/io/stationxml/core.py:96: UserWarning: The StationXML file has version 1.2, ObsPy can read versions (1.0, 1.1). Proceed with caution.\n",
      "  warnings.warn(\"The StationXML file has version %s, ObsPy can \"\n",
      " 11%|█         | 65/605 [00:12<01:07,  7.98it/s]/home/niyiyu/anaconda3/envs/seisml/lib/python3.8/site-packages/obspy/io/stationxml/core.py:96: UserWarning: The StationXML file has version 1.2, ObsPy can read versions (1.0, 1.1). Proceed with caution.\n",
      "  warnings.warn(\"The StationXML file has version %s, ObsPy can \"\n",
      " 11%|█         | 66/605 [00:13<01:30,  5.95it/s]/home/niyiyu/anaconda3/envs/seisml/lib/python3.8/site-packages/obspy/io/stationxml/core.py:96: UserWarning: The StationXML file has version 1.2, ObsPy can read versions (1.0, 1.1). Proceed with caution.\n",
      "  warnings.warn(\"The StationXML file has version %s, ObsPy can \"\n",
      " 11%|█         | 67/605 [00:14<01:55,  4.67it/s]/home/niyiyu/anaconda3/envs/seisml/lib/python3.8/site-packages/obspy/io/stationxml/core.py:96: UserWarning: The StationXML file has version 1.2, ObsPy can read versions (1.0, 1.1). Proceed with caution.\n",
      "  warnings.warn(\"The StationXML file has version %s, ObsPy can \"\n",
      " 11%|█         | 68/605 [00:15<02:26,  3.67it/s]/home/niyiyu/anaconda3/envs/seisml/lib/python3.8/site-packages/obspy/io/stationxml/core.py:96: UserWarning: The StationXML file has version 1.2, ObsPy can read versions (1.0, 1.1). Proceed with caution.\n",
      "  warnings.warn(\"The StationXML file has version %s, ObsPy can \"\n",
      " 11%|█▏        | 69/605 [00:15<02:55,  3.05it/s]/home/niyiyu/anaconda3/envs/seisml/lib/python3.8/site-packages/obspy/io/stationxml/core.py:96: UserWarning: The StationXML file has version 1.2, ObsPy can read versions (1.0, 1.1). Proceed with caution.\n",
      "  warnings.warn(\"The StationXML file has version %s, ObsPy can \"\n",
      " 12%|█▏        | 70/605 [00:16<03:32,  2.51it/s]/home/niyiyu/anaconda3/envs/seisml/lib/python3.8/site-packages/obspy/io/stationxml/core.py:96: UserWarning: The StationXML file has version 1.2, ObsPy can read versions (1.0, 1.1). Proceed with caution.\n",
      "  warnings.warn(\"The StationXML file has version %s, ObsPy can \"\n",
      " 12%|█▏        | 71/605 [00:17<04:04,  2.19it/s]/home/niyiyu/anaconda3/envs/seisml/lib/python3.8/site-packages/obspy/io/stationxml/core.py:96: UserWarning: The StationXML file has version 1.2, ObsPy can read versions (1.0, 1.1). Proceed with caution.\n",
      "  warnings.warn(\"The StationXML file has version %s, ObsPy can \"\n"
     ]
    },
    {
     "name": "stderr",
     "output_type": "stream",
     "text": [
      " 12%|█▏        | 72/605 [00:17<04:31,  1.96it/s]/home/niyiyu/anaconda3/envs/seisml/lib/python3.8/site-packages/obspy/io/stationxml/core.py:96: UserWarning: The StationXML file has version 1.2, ObsPy can read versions (1.0, 1.1). Proceed with caution.\n",
      "  warnings.warn(\"The StationXML file has version %s, ObsPy can \"\n",
      " 12%|█▏        | 73/605 [00:18<04:48,  1.84it/s]/home/niyiyu/anaconda3/envs/seisml/lib/python3.8/site-packages/obspy/io/stationxml/core.py:96: UserWarning: The StationXML file has version 1.2, ObsPy can read versions (1.0, 1.1). Proceed with caution.\n",
      "  warnings.warn(\"The StationXML file has version %s, ObsPy can \"\n",
      " 12%|█▏        | 74/605 [00:19<05:09,  1.72it/s]/home/niyiyu/anaconda3/envs/seisml/lib/python3.8/site-packages/obspy/io/stationxml/core.py:96: UserWarning: The StationXML file has version 1.2, ObsPy can read versions (1.0, 1.1). Proceed with caution.\n",
      "  warnings.warn(\"The StationXML file has version %s, ObsPy can \"\n",
      " 13%|█▎        | 79/605 [00:19<02:35,  3.38it/s]/home/niyiyu/anaconda3/envs/seisml/lib/python3.8/site-packages/obspy/io/stationxml/core.py:96: UserWarning: The StationXML file has version 1.2, ObsPy can read versions (1.0, 1.1). Proceed with caution.\n",
      "  warnings.warn(\"The StationXML file has version %s, ObsPy can \"\n",
      " 13%|█▎        | 81/605 [00:20<02:39,  3.30it/s]/home/niyiyu/anaconda3/envs/seisml/lib/python3.8/site-packages/obspy/io/stationxml/core.py:96: UserWarning: The StationXML file has version 1.2, ObsPy can read versions (1.0, 1.1). Proceed with caution.\n",
      "  warnings.warn(\"The StationXML file has version %s, ObsPy can \"\n",
      " 15%|█▌        | 91/605 [00:21<01:16,  6.68it/s]/home/niyiyu/anaconda3/envs/seisml/lib/python3.8/site-packages/obspy/io/stationxml/core.py:96: UserWarning: The StationXML file has version 1.2, ObsPy can read versions (1.0, 1.1). Proceed with caution.\n",
      "  warnings.warn(\"The StationXML file has version %s, ObsPy can \"\n",
      " 24%|██▍       | 147/605 [00:21<00:15, 29.72it/s]/home/niyiyu/anaconda3/envs/seisml/lib/python3.8/site-packages/obspy/io/stationxml/core.py:96: UserWarning: The StationXML file has version 1.2, ObsPy can read versions (1.0, 1.1). Proceed with caution.\n",
      "  warnings.warn(\"The StationXML file has version %s, ObsPy can \"\n",
      "/home/niyiyu/anaconda3/envs/seisml/lib/python3.8/site-packages/obspy/io/stationxml/core.py:96: UserWarning: The StationXML file has version 1.2, ObsPy can read versions (1.0, 1.1). Proceed with caution.\n",
      "  warnings.warn(\"The StationXML file has version %s, ObsPy can \"\n",
      " 25%|██▍       | 151/605 [00:23<00:26, 17.10it/s]/home/niyiyu/anaconda3/envs/seisml/lib/python3.8/site-packages/obspy/io/stationxml/core.py:96: UserWarning: The StationXML file has version 1.2, ObsPy can read versions (1.0, 1.1). Proceed with caution.\n",
      "  warnings.warn(\"The StationXML file has version %s, ObsPy can \"\n",
      "/home/niyiyu/anaconda3/envs/seisml/lib/python3.8/site-packages/obspy/io/stationxml/core.py:96: UserWarning: The StationXML file has version 1.2, ObsPy can read versions (1.0, 1.1). Proceed with caution.\n",
      "  warnings.warn(\"The StationXML file has version %s, ObsPy can \"\n",
      "/home/niyiyu/anaconda3/envs/seisml/lib/python3.8/site-packages/obspy/io/stationxml/core.py:96: UserWarning: The StationXML file has version 1.2, ObsPy can read versions (1.0, 1.1). Proceed with caution.\n",
      "  warnings.warn(\"The StationXML file has version %s, ObsPy can \"\n",
      " 25%|██▌       | 154/605 [00:25<00:47,  9.44it/s]/home/niyiyu/anaconda3/envs/seisml/lib/python3.8/site-packages/obspy/io/stationxml/core.py:96: UserWarning: The StationXML file has version 1.2, ObsPy can read versions (1.0, 1.1). Proceed with caution.\n",
      "  warnings.warn(\"The StationXML file has version %s, ObsPy can \"\n",
      "/home/niyiyu/anaconda3/envs/seisml/lib/python3.8/site-packages/obspy/io/stationxml/core.py:96: UserWarning: The StationXML file has version 1.2, ObsPy can read versions (1.0, 1.1). Proceed with caution.\n",
      "  warnings.warn(\"The StationXML file has version %s, ObsPy can \"\n",
      " 26%|██▌       | 156/605 [00:26<01:05,  6.81it/s]/home/niyiyu/anaconda3/envs/seisml/lib/python3.8/site-packages/obspy/io/stationxml/core.py:96: UserWarning: The StationXML file has version 1.2, ObsPy can read versions (1.0, 1.1). Proceed with caution.\n",
      "  warnings.warn(\"The StationXML file has version %s, ObsPy can \"\n",
      "/home/niyiyu/anaconda3/envs/seisml/lib/python3.8/site-packages/obspy/io/stationxml/core.py:96: UserWarning: The StationXML file has version 1.2, ObsPy can read versions (1.0, 1.1). Proceed with caution.\n",
      "  warnings.warn(\"The StationXML file has version %s, ObsPy can \"\n",
      " 26%|██▌       | 158/605 [00:28<01:27,  5.10it/s]/home/niyiyu/anaconda3/envs/seisml/lib/python3.8/site-packages/obspy/io/stationxml/core.py:96: UserWarning: The StationXML file has version 1.2, ObsPy can read versions (1.0, 1.1). Proceed with caution.\n",
      "  warnings.warn(\"The StationXML file has version %s, ObsPy can \"\n",
      " 26%|██▋       | 159/605 [00:28<01:39,  4.48it/s]/home/niyiyu/anaconda3/envs/seisml/lib/python3.8/site-packages/obspy/io/stationxml/core.py:96: UserWarning: The StationXML file has version 1.2, ObsPy can read versions (1.0, 1.1). Proceed with caution.\n",
      "  warnings.warn(\"The StationXML file has version %s, ObsPy can \"\n",
      " 26%|██▋       | 160/605 [00:29<01:54,  3.89it/s]/home/niyiyu/anaconda3/envs/seisml/lib/python3.8/site-packages/obspy/io/stationxml/core.py:96: UserWarning: The StationXML file has version 1.2, ObsPy can read versions (1.0, 1.1). Proceed with caution.\n",
      "  warnings.warn(\"The StationXML file has version %s, ObsPy can \"\n",
      " 27%|██▋       | 162/605 [00:29<02:01,  3.65it/s]/home/niyiyu/anaconda3/envs/seisml/lib/python3.8/site-packages/obspy/io/stationxml/core.py:96: UserWarning: The StationXML file has version 1.2, ObsPy can read versions (1.0, 1.1). Proceed with caution.\n",
      "  warnings.warn(\"The StationXML file has version %s, ObsPy can \"\n",
      " 27%|██▋       | 163/605 [00:30<02:22,  3.09it/s]/home/niyiyu/anaconda3/envs/seisml/lib/python3.8/site-packages/obspy/io/stationxml/core.py:96: UserWarning: The StationXML file has version 1.2, ObsPy can read versions (1.0, 1.1). Proceed with caution.\n",
      "  warnings.warn(\"The StationXML file has version %s, ObsPy can \"\n",
      " 28%|██▊       | 170/605 [00:31<01:26,  5.03it/s]/home/niyiyu/anaconda3/envs/seisml/lib/python3.8/site-packages/obspy/io/stationxml/core.py:96: UserWarning: The StationXML file has version 1.2, ObsPy can read versions (1.0, 1.1). Proceed with caution.\n",
      "  warnings.warn(\"The StationXML file has version %s, ObsPy can \"\n",
      " 32%|███▏      | 194/605 [00:31<00:30, 13.46it/s]/home/niyiyu/anaconda3/envs/seisml/lib/python3.8/site-packages/obspy/io/stationxml/core.py:96: UserWarning: The StationXML file has version 1.2, ObsPy can read versions (1.0, 1.1). Proceed with caution.\n",
      "  warnings.warn(\"The StationXML file has version %s, ObsPy can \"\n",
      " 39%|███▉      | 236/605 [00:32<00:13, 27.50it/s]/home/niyiyu/anaconda3/envs/seisml/lib/python3.8/site-packages/obspy/io/stationxml/core.py:96: UserWarning: The StationXML file has version 1.2, ObsPy can read versions (1.0, 1.1). Proceed with caution.\n",
      "  warnings.warn(\"The StationXML file has version %s, ObsPy can \"\n",
      "/home/niyiyu/anaconda3/envs/seisml/lib/python3.8/site-packages/obspy/io/stationxml/core.py:96: UserWarning: The StationXML file has version 1.2, ObsPy can read versions (1.0, 1.1). Proceed with caution.\n",
      "  warnings.warn(\"The StationXML file has version %s, ObsPy can \"\n",
      "/home/niyiyu/anaconda3/envs/seisml/lib/python3.8/site-packages/obspy/io/stationxml/core.py:96: UserWarning: The StationXML file has version 1.2, ObsPy can read versions (1.0, 1.1). Proceed with caution.\n",
      "  warnings.warn(\"The StationXML file has version %s, ObsPy can \"\n",
      " 40%|███▉      | 239/605 [00:34<00:27, 13.15it/s]/home/niyiyu/anaconda3/envs/seisml/lib/python3.8/site-packages/obspy/io/stationxml/core.py:96: UserWarning: The StationXML file has version 1.2, ObsPy can read versions (1.0, 1.1). Proceed with caution.\n",
      "  warnings.warn(\"The StationXML file has version %s, ObsPy can \"\n",
      "/home/niyiyu/anaconda3/envs/seisml/lib/python3.8/site-packages/obspy/io/stationxml/core.py:96: UserWarning: The StationXML file has version 1.2, ObsPy can read versions (1.0, 1.1). Proceed with caution.\n",
      "  warnings.warn(\"The StationXML file has version %s, ObsPy can \"\n",
      "/home/niyiyu/anaconda3/envs/seisml/lib/python3.8/site-packages/obspy/io/stationxml/core.py:96: UserWarning: The StationXML file has version 1.2, ObsPy can read versions (1.0, 1.1). Proceed with caution.\n",
      "  warnings.warn(\"The StationXML file has version %s, ObsPy can \"\n"
     ]
    },
    {
     "name": "stderr",
     "output_type": "stream",
     "text": [
      " 40%|████      | 242/605 [00:36<00:44,  8.09it/s]/home/niyiyu/anaconda3/envs/seisml/lib/python3.8/site-packages/obspy/io/stationxml/core.py:96: UserWarning: The StationXML file has version 1.2, ObsPy can read versions (1.0, 1.1). Proceed with caution.\n",
      "  warnings.warn(\"The StationXML file has version %s, ObsPy can \"\n",
      "/home/niyiyu/anaconda3/envs/seisml/lib/python3.8/site-packages/obspy/io/stationxml/core.py:96: UserWarning: The StationXML file has version 1.2, ObsPy can read versions (1.0, 1.1). Proceed with caution.\n",
      "  warnings.warn(\"The StationXML file has version %s, ObsPy can \"\n",
      " 40%|████      | 244/605 [00:38<00:58,  6.14it/s]/home/niyiyu/anaconda3/envs/seisml/lib/python3.8/site-packages/obspy/io/stationxml/core.py:96: UserWarning: The StationXML file has version 1.2, ObsPy can read versions (1.0, 1.1). Proceed with caution.\n",
      "  warnings.warn(\"The StationXML file has version %s, ObsPy can \"\n",
      " 41%|████      | 246/605 [00:38<01:04,  5.55it/s]/home/niyiyu/anaconda3/envs/seisml/lib/python3.8/site-packages/obspy/io/stationxml/core.py:96: UserWarning: The StationXML file has version 1.2, ObsPy can read versions (1.0, 1.1). Proceed with caution.\n",
      "  warnings.warn(\"The StationXML file has version %s, ObsPy can \"\n",
      " 41%|████      | 248/605 [00:39<01:11,  5.00it/s]/home/niyiyu/anaconda3/envs/seisml/lib/python3.8/site-packages/obspy/io/stationxml/core.py:96: UserWarning: The StationXML file has version 1.2, ObsPy can read versions (1.0, 1.1). Proceed with caution.\n",
      "  warnings.warn(\"The StationXML file has version %s, ObsPy can \"\n",
      " 41%|████▏     | 251/605 [00:40<01:11,  4.92it/s]/home/niyiyu/anaconda3/envs/seisml/lib/python3.8/site-packages/obspy/io/stationxml/core.py:96: UserWarning: The StationXML file has version 1.2, ObsPy can read versions (1.0, 1.1). Proceed with caution.\n",
      "  warnings.warn(\"The StationXML file has version %s, ObsPy can \"\n",
      " 46%|████▌     | 279/605 [00:40<00:23, 13.61it/s]/home/niyiyu/anaconda3/envs/seisml/lib/python3.8/site-packages/obspy/io/stationxml/core.py:96: UserWarning: The StationXML file has version 1.2, ObsPy can read versions (1.0, 1.1). Proceed with caution.\n",
      "  warnings.warn(\"The StationXML file has version %s, ObsPy can \"\n",
      " 47%|████▋     | 287/605 [00:41<00:23, 13.30it/s]/home/niyiyu/anaconda3/envs/seisml/lib/python3.8/site-packages/obspy/io/stationxml/core.py:96: UserWarning: The StationXML file has version 1.2, ObsPy can read versions (1.0, 1.1). Proceed with caution.\n",
      "  warnings.warn(\"The StationXML file has version %s, ObsPy can \"\n",
      " 48%|████▊     | 289/605 [00:42<00:29, 10.64it/s]/home/niyiyu/anaconda3/envs/seisml/lib/python3.8/site-packages/obspy/io/stationxml/core.py:96: UserWarning: The StationXML file has version 1.2, ObsPy can read versions (1.0, 1.1). Proceed with caution.\n",
      "  warnings.warn(\"The StationXML file has version %s, ObsPy can \"\n",
      " 50%|████▉     | 301/605 [00:42<00:24, 12.52it/s]/home/niyiyu/anaconda3/envs/seisml/lib/python3.8/site-packages/obspy/io/stationxml/core.py:96: UserWarning: The StationXML file has version 1.2, ObsPy can read versions (1.0, 1.1). Proceed with caution.\n",
      "  warnings.warn(\"The StationXML file has version %s, ObsPy can \"\n",
      " 50%|█████     | 304/605 [00:43<00:29, 10.14it/s]/home/niyiyu/anaconda3/envs/seisml/lib/python3.8/site-packages/obspy/io/stationxml/core.py:96: UserWarning: The StationXML file has version 1.2, ObsPy can read versions (1.0, 1.1). Proceed with caution.\n",
      "  warnings.warn(\"The StationXML file has version %s, ObsPy can \"\n",
      " 51%|█████     | 306/605 [00:44<00:37,  8.01it/s]/home/niyiyu/anaconda3/envs/seisml/lib/python3.8/site-packages/obspy/io/stationxml/core.py:96: UserWarning: The StationXML file has version 1.2, ObsPy can read versions (1.0, 1.1). Proceed with caution.\n",
      "  warnings.warn(\"The StationXML file has version %s, ObsPy can \"\n",
      " 52%|█████▏    | 315/605 [00:44<00:30,  9.66it/s]/home/niyiyu/anaconda3/envs/seisml/lib/python3.8/site-packages/obspy/io/stationxml/core.py:96: UserWarning: The StationXML file has version 1.2, ObsPy can read versions (1.0, 1.1). Proceed with caution.\n",
      "  warnings.warn(\"The StationXML file has version %s, ObsPy can \"\n",
      " 52%|█████▏    | 316/605 [00:45<00:40,  7.19it/s]/home/niyiyu/anaconda3/envs/seisml/lib/python3.8/site-packages/obspy/io/stationxml/core.py:96: UserWarning: The StationXML file has version 1.2, ObsPy can read versions (1.0, 1.1). Proceed with caution.\n",
      "  warnings.warn(\"The StationXML file has version %s, ObsPy can \"\n",
      " 52%|█████▏    | 317/605 [00:46<00:51,  5.57it/s]/home/niyiyu/anaconda3/envs/seisml/lib/python3.8/site-packages/obspy/io/stationxml/core.py:96: UserWarning: The StationXML file has version 1.2, ObsPy can read versions (1.0, 1.1). Proceed with caution.\n",
      "  warnings.warn(\"The StationXML file has version %s, ObsPy can \"\n",
      " 53%|█████▎    | 318/605 [00:46<01:06,  4.33it/s]/home/niyiyu/anaconda3/envs/seisml/lib/python3.8/site-packages/obspy/io/stationxml/core.py:96: UserWarning: The StationXML file has version 1.2, ObsPy can read versions (1.0, 1.1). Proceed with caution.\n",
      "  warnings.warn(\"The StationXML file has version %s, ObsPy can \"\n",
      " 53%|█████▎    | 319/605 [00:47<01:22,  3.45it/s]/home/niyiyu/anaconda3/envs/seisml/lib/python3.8/site-packages/obspy/io/stationxml/core.py:96: UserWarning: The StationXML file has version 1.2, ObsPy can read versions (1.0, 1.1). Proceed with caution.\n",
      "  warnings.warn(\"The StationXML file has version %s, ObsPy can \"\n",
      " 53%|█████▎    | 320/605 [00:48<01:39,  2.86it/s]/home/niyiyu/anaconda3/envs/seisml/lib/python3.8/site-packages/obspy/io/stationxml/core.py:96: UserWarning: The StationXML file has version 1.2, ObsPy can read versions (1.0, 1.1). Proceed with caution.\n",
      "  warnings.warn(\"The StationXML file has version %s, ObsPy can \"\n",
      " 53%|█████▎    | 321/605 [00:48<01:57,  2.42it/s]/home/niyiyu/anaconda3/envs/seisml/lib/python3.8/site-packages/obspy/io/stationxml/core.py:96: UserWarning: The StationXML file has version 1.2, ObsPy can read versions (1.0, 1.1). Proceed with caution.\n",
      "  warnings.warn(\"The StationXML file has version %s, ObsPy can \"\n",
      " 53%|█████▎    | 322/605 [00:49<02:10,  2.17it/s]/home/niyiyu/anaconda3/envs/seisml/lib/python3.8/site-packages/obspy/io/stationxml/core.py:96: UserWarning: The StationXML file has version 1.2, ObsPy can read versions (1.0, 1.1). Proceed with caution.\n",
      "  warnings.warn(\"The StationXML file has version %s, ObsPy can \"\n",
      " 53%|█████▎    | 323/605 [00:50<02:24,  1.95it/s]/home/niyiyu/anaconda3/envs/seisml/lib/python3.8/site-packages/obspy/io/stationxml/core.py:96: UserWarning: The StationXML file has version 1.2, ObsPy can read versions (1.0, 1.1). Proceed with caution.\n",
      "  warnings.warn(\"The StationXML file has version %s, ObsPy can \"\n",
      " 54%|█████▍    | 327/605 [00:50<01:27,  3.17it/s]/home/niyiyu/anaconda3/envs/seisml/lib/python3.8/site-packages/obspy/io/stationxml/core.py:96: UserWarning: The StationXML file has version 1.2, ObsPy can read versions (1.0, 1.1). Proceed with caution.\n",
      "  warnings.warn(\"The StationXML file has version %s, ObsPy can \"\n",
      " 54%|█████▍    | 328/605 [00:51<01:45,  2.64it/s]/home/niyiyu/anaconda3/envs/seisml/lib/python3.8/site-packages/obspy/io/stationxml/core.py:96: UserWarning: The StationXML file has version 1.2, ObsPy can read versions (1.0, 1.1). Proceed with caution.\n",
      "  warnings.warn(\"The StationXML file has version %s, ObsPy can \"\n",
      " 55%|█████▍    | 331/605 [00:52<01:25,  3.22it/s]/home/niyiyu/anaconda3/envs/seisml/lib/python3.8/site-packages/obspy/io/stationxml/core.py:96: UserWarning: The StationXML file has version 1.2, ObsPy can read versions (1.0, 1.1). Proceed with caution.\n",
      "  warnings.warn(\"The StationXML file has version %s, ObsPy can \"\n",
      " 56%|█████▌    | 339/605 [00:52<00:45,  5.89it/s]/home/niyiyu/anaconda3/envs/seisml/lib/python3.8/site-packages/obspy/io/stationxml/core.py:96: UserWarning: The StationXML file has version 1.2, ObsPy can read versions (1.0, 1.1). Proceed with caution.\n",
      "  warnings.warn(\"The StationXML file has version %s, ObsPy can \"\n",
      " 57%|█████▋    | 343/605 [00:53<00:43,  5.98it/s]/home/niyiyu/anaconda3/envs/seisml/lib/python3.8/site-packages/obspy/io/stationxml/core.py:96: UserWarning: The StationXML file has version 1.2, ObsPy can read versions (1.0, 1.1). Proceed with caution.\n",
      "  warnings.warn(\"The StationXML file has version %s, ObsPy can \"\n"
     ]
    },
    {
     "name": "stderr",
     "output_type": "stream",
     "text": [
      " 61%|██████▏   | 372/605 [00:54<00:13, 17.48it/s]/home/niyiyu/anaconda3/envs/seisml/lib/python3.8/site-packages/obspy/io/stationxml/core.py:96: UserWarning: The StationXML file has version 1.2, ObsPy can read versions (1.0, 1.1). Proceed with caution.\n",
      "  warnings.warn(\"The StationXML file has version %s, ObsPy can \"\n",
      " 62%|██████▏   | 374/605 [00:54<00:17, 13.20it/s]/home/niyiyu/anaconda3/envs/seisml/lib/python3.8/site-packages/obspy/io/stationxml/core.py:96: UserWarning: The StationXML file has version 1.2, ObsPy can read versions (1.0, 1.1). Proceed with caution.\n",
      "  warnings.warn(\"The StationXML file has version %s, ObsPy can \"\n",
      " 63%|██████▎   | 383/605 [00:55<00:16, 13.10it/s]/home/niyiyu/anaconda3/envs/seisml/lib/python3.8/site-packages/obspy/io/stationxml/core.py:96: UserWarning: The StationXML file has version 1.2, ObsPy can read versions (1.0, 1.1). Proceed with caution.\n",
      "  warnings.warn(\"The StationXML file has version %s, ObsPy can \"\n",
      "/home/niyiyu/anaconda3/envs/seisml/lib/python3.8/site-packages/obspy/io/stationxml/core.py:96: UserWarning: The StationXML file has version 1.2, ObsPy can read versions (1.0, 1.1). Proceed with caution.\n",
      "  warnings.warn(\"The StationXML file has version %s, ObsPy can \"\n",
      " 64%|██████▎   | 385/605 [00:56<00:28,  7.72it/s]/home/niyiyu/anaconda3/envs/seisml/lib/python3.8/site-packages/obspy/io/stationxml/core.py:96: UserWarning: The StationXML file has version 1.2, ObsPy can read versions (1.0, 1.1). Proceed with caution.\n",
      "  warnings.warn(\"The StationXML file has version %s, ObsPy can \"\n",
      " 64%|██████▍   | 386/605 [00:57<00:35,  6.23it/s]/home/niyiyu/anaconda3/envs/seisml/lib/python3.8/site-packages/obspy/io/stationxml/core.py:96: UserWarning: The StationXML file has version 1.2, ObsPy can read versions (1.0, 1.1). Proceed with caution.\n",
      "  warnings.warn(\"The StationXML file has version %s, ObsPy can \"\n",
      " 64%|██████▍   | 387/605 [00:58<00:44,  4.93it/s]/home/niyiyu/anaconda3/envs/seisml/lib/python3.8/site-packages/obspy/io/stationxml/core.py:96: UserWarning: The StationXML file has version 1.2, ObsPy can read versions (1.0, 1.1). Proceed with caution.\n",
      "  warnings.warn(\"The StationXML file has version %s, ObsPy can \"\n",
      " 64%|██████▍   | 388/605 [00:58<00:53,  4.03it/s]/home/niyiyu/anaconda3/envs/seisml/lib/python3.8/site-packages/obspy/io/stationxml/core.py:96: UserWarning: The StationXML file has version 1.2, ObsPy can read versions (1.0, 1.1). Proceed with caution.\n",
      "  warnings.warn(\"The StationXML file has version %s, ObsPy can \"\n",
      " 64%|██████▍   | 389/605 [00:59<01:05,  3.28it/s]/home/niyiyu/anaconda3/envs/seisml/lib/python3.8/site-packages/obspy/io/stationxml/core.py:96: UserWarning: The StationXML file has version 1.2, ObsPy can read versions (1.0, 1.1). Proceed with caution.\n",
      "  warnings.warn(\"The StationXML file has version %s, ObsPy can \"\n",
      " 64%|██████▍   | 390/605 [01:00<01:18,  2.74it/s]/home/niyiyu/anaconda3/envs/seisml/lib/python3.8/site-packages/obspy/io/stationxml/core.py:96: UserWarning: The StationXML file has version 1.2, ObsPy can read versions (1.0, 1.1). Proceed with caution.\n",
      "  warnings.warn(\"The StationXML file has version %s, ObsPy can \"\n",
      " 65%|██████▍   | 393/605 [01:00<01:04,  3.27it/s]/home/niyiyu/anaconda3/envs/seisml/lib/python3.8/site-packages/obspy/io/stationxml/core.py:96: UserWarning: The StationXML file has version 1.2, ObsPy can read versions (1.0, 1.1). Proceed with caution.\n",
      "  warnings.warn(\"The StationXML file has version %s, ObsPy can \"\n",
      " 65%|██████▌   | 396/605 [01:01<00:57,  3.66it/s]/home/niyiyu/anaconda3/envs/seisml/lib/python3.8/site-packages/obspy/io/stationxml/core.py:96: UserWarning: The StationXML file has version 1.2, ObsPy can read versions (1.0, 1.1). Proceed with caution.\n",
      "  warnings.warn(\"The StationXML file has version %s, ObsPy can \"\n",
      " 66%|██████▌   | 398/605 [01:02<00:59,  3.49it/s]/home/niyiyu/anaconda3/envs/seisml/lib/python3.8/site-packages/obspy/io/stationxml/core.py:96: UserWarning: The StationXML file has version 1.2, ObsPy can read versions (1.0, 1.1). Proceed with caution.\n",
      "  warnings.warn(\"The StationXML file has version %s, ObsPy can \"\n",
      " 66%|██████▋   | 401/605 [01:02<00:53,  3.83it/s]/home/niyiyu/anaconda3/envs/seisml/lib/python3.8/site-packages/obspy/io/stationxml/core.py:96: UserWarning: The StationXML file has version 1.2, ObsPy can read versions (1.0, 1.1). Proceed with caution.\n",
      "  warnings.warn(\"The StationXML file has version %s, ObsPy can \"\n",
      " 68%|██████▊   | 410/605 [01:03<00:29,  6.64it/s]/home/niyiyu/anaconda3/envs/seisml/lib/python3.8/site-packages/obspy/io/stationxml/core.py:96: UserWarning: The StationXML file has version 1.2, ObsPy can read versions (1.0, 1.1). Proceed with caution.\n",
      "  warnings.warn(\"The StationXML file has version %s, ObsPy can \"\n",
      " 68%|██████▊   | 411/605 [01:04<00:37,  5.15it/s]/home/niyiyu/anaconda3/envs/seisml/lib/python3.8/site-packages/obspy/io/stationxml/core.py:96: UserWarning: The StationXML file has version 1.2, ObsPy can read versions (1.0, 1.1). Proceed with caution.\n",
      "  warnings.warn(\"The StationXML file has version %s, ObsPy can \"\n",
      " 68%|██████▊   | 412/605 [01:04<00:47,  4.10it/s]/home/niyiyu/anaconda3/envs/seisml/lib/python3.8/site-packages/obspy/io/stationxml/core.py:96: UserWarning: The StationXML file has version 1.2, ObsPy can read versions (1.0, 1.1). Proceed with caution.\n",
      "  warnings.warn(\"The StationXML file has version %s, ObsPy can \"\n",
      " 68%|██████▊   | 413/605 [01:05<00:58,  3.27it/s]/home/niyiyu/anaconda3/envs/seisml/lib/python3.8/site-packages/obspy/io/stationxml/core.py:96: UserWarning: The StationXML file has version 1.2, ObsPy can read versions (1.0, 1.1). Proceed with caution.\n",
      "  warnings.warn(\"The StationXML file has version %s, ObsPy can \"\n",
      " 68%|██████▊   | 414/605 [01:06<01:09,  2.76it/s]/home/niyiyu/anaconda3/envs/seisml/lib/python3.8/site-packages/obspy/io/stationxml/core.py:96: UserWarning: The StationXML file has version 1.2, ObsPy can read versions (1.0, 1.1). Proceed with caution.\n",
      "  warnings.warn(\"The StationXML file has version %s, ObsPy can \"\n",
      " 69%|██████▊   | 415/605 [01:06<01:19,  2.40it/s]/home/niyiyu/anaconda3/envs/seisml/lib/python3.8/site-packages/obspy/io/stationxml/core.py:96: UserWarning: The StationXML file has version 1.2, ObsPy can read versions (1.0, 1.1). Proceed with caution.\n",
      "  warnings.warn(\"The StationXML file has version %s, ObsPy can \"\n",
      " 70%|███████   | 424/605 [01:07<00:31,  5.68it/s]/home/niyiyu/anaconda3/envs/seisml/lib/python3.8/site-packages/obspy/io/stationxml/core.py:96: UserWarning: The StationXML file has version 1.2, ObsPy can read versions (1.0, 1.1). Proceed with caution.\n",
      "  warnings.warn(\"The StationXML file has version %s, ObsPy can \"\n",
      " 70%|███████   | 425/605 [01:08<00:41,  4.34it/s]/home/niyiyu/anaconda3/envs/seisml/lib/python3.8/site-packages/obspy/io/stationxml/core.py:96: UserWarning: The StationXML file has version 1.2, ObsPy can read versions (1.0, 1.1). Proceed with caution.\n",
      "  warnings.warn(\"The StationXML file has version %s, ObsPy can \"\n",
      " 70%|███████   | 426/605 [01:08<00:50,  3.52it/s]/home/niyiyu/anaconda3/envs/seisml/lib/python3.8/site-packages/obspy/io/stationxml/core.py:96: UserWarning: The StationXML file has version 1.2, ObsPy can read versions (1.0, 1.1). Proceed with caution.\n",
      "  warnings.warn(\"The StationXML file has version %s, ObsPy can \"\n",
      " 71%|███████   | 427/605 [01:09<01:01,  2.88it/s]/home/niyiyu/anaconda3/envs/seisml/lib/python3.8/site-packages/obspy/io/stationxml/core.py:96: UserWarning: The StationXML file has version 1.2, ObsPy can read versions (1.0, 1.1). Proceed with caution.\n",
      "  warnings.warn(\"The StationXML file has version %s, ObsPy can \"\n",
      " 71%|███████   | 428/605 [01:10<01:10,  2.49it/s]/home/niyiyu/anaconda3/envs/seisml/lib/python3.8/site-packages/obspy/io/stationxml/core.py:96: UserWarning: The StationXML file has version 1.2, ObsPy can read versions (1.0, 1.1). Proceed with caution.\n",
      "  warnings.warn(\"The StationXML file has version %s, ObsPy can \"\n",
      " 71%|███████   | 429/605 [01:10<01:19,  2.22it/s]/home/niyiyu/anaconda3/envs/seisml/lib/python3.8/site-packages/obspy/io/stationxml/core.py:96: UserWarning: The StationXML file has version 1.2, ObsPy can read versions (1.0, 1.1). Proceed with caution.\n",
      "  warnings.warn(\"The StationXML file has version %s, ObsPy can \"\n"
     ]
    },
    {
     "name": "stderr",
     "output_type": "stream",
     "text": [
      " 71%|███████   | 430/605 [01:11<01:27,  2.00it/s]/home/niyiyu/anaconda3/envs/seisml/lib/python3.8/site-packages/obspy/io/stationxml/core.py:96: UserWarning: The StationXML file has version 1.2, ObsPy can read versions (1.0, 1.1). Proceed with caution.\n",
      "  warnings.warn(\"The StationXML file has version %s, ObsPy can \"\n",
      " 71%|███████   | 431/605 [01:12<01:33,  1.86it/s]/home/niyiyu/anaconda3/envs/seisml/lib/python3.8/site-packages/obspy/io/stationxml/core.py:96: UserWarning: The StationXML file has version 1.2, ObsPy can read versions (1.0, 1.1). Proceed with caution.\n",
      "  warnings.warn(\"The StationXML file has version %s, ObsPy can \"\n",
      " 71%|███████▏  | 432/605 [01:12<01:38,  1.76it/s]/home/niyiyu/anaconda3/envs/seisml/lib/python3.8/site-packages/obspy/io/stationxml/core.py:96: UserWarning: The StationXML file has version 1.2, ObsPy can read versions (1.0, 1.1). Proceed with caution.\n",
      "  warnings.warn(\"The StationXML file has version %s, ObsPy can \"\n",
      " 72%|███████▏  | 433/605 [01:13<01:43,  1.66it/s]/home/niyiyu/anaconda3/envs/seisml/lib/python3.8/site-packages/obspy/io/stationxml/core.py:96: UserWarning: The StationXML file has version 1.2, ObsPy can read versions (1.0, 1.1). Proceed with caution.\n",
      "  warnings.warn(\"The StationXML file has version %s, ObsPy can \"\n",
      " 77%|███████▋  | 463/605 [01:14<00:09, 14.72it/s]/home/niyiyu/anaconda3/envs/seisml/lib/python3.8/site-packages/obspy/io/stationxml/core.py:96: UserWarning: The StationXML file has version 1.2, ObsPy can read versions (1.0, 1.1). Proceed with caution.\n",
      "  warnings.warn(\"The StationXML file has version %s, ObsPy can \"\n",
      " 77%|███████▋  | 466/605 [01:14<00:12, 11.48it/s]/home/niyiyu/anaconda3/envs/seisml/lib/python3.8/site-packages/obspy/io/stationxml/core.py:96: UserWarning: The StationXML file has version 1.2, ObsPy can read versions (1.0, 1.1). Proceed with caution.\n",
      "  warnings.warn(\"The StationXML file has version %s, ObsPy can \"\n",
      " 79%|███████▉  | 478/605 [01:15<00:09, 13.53it/s]/home/niyiyu/anaconda3/envs/seisml/lib/python3.8/site-packages/obspy/io/stationxml/core.py:96: UserWarning: The StationXML file has version 1.2, ObsPy can read versions (1.0, 1.1). Proceed with caution.\n",
      "  warnings.warn(\"The StationXML file has version %s, ObsPy can \"\n",
      "/home/niyiyu/anaconda3/envs/seisml/lib/python3.8/site-packages/obspy/io/stationxml/core.py:96: UserWarning: The StationXML file has version 1.2, ObsPy can read versions (1.0, 1.1). Proceed with caution.\n",
      "  warnings.warn(\"The StationXML file has version %s, ObsPy can \"\n",
      " 79%|███████▉  | 480/605 [01:16<00:15,  8.09it/s]/home/niyiyu/anaconda3/envs/seisml/lib/python3.8/site-packages/obspy/io/stationxml/core.py:96: UserWarning: The StationXML file has version 1.2, ObsPy can read versions (1.0, 1.1). Proceed with caution.\n",
      "  warnings.warn(\"The StationXML file has version %s, ObsPy can \"\n",
      "/home/niyiyu/anaconda3/envs/seisml/lib/python3.8/site-packages/obspy/io/stationxml/core.py:96: UserWarning: The StationXML file has version 1.2, ObsPy can read versions (1.0, 1.1). Proceed with caution.\n",
      "  warnings.warn(\"The StationXML file has version %s, ObsPy can \"\n",
      " 80%|███████▉  | 482/605 [01:18<00:22,  5.44it/s]/home/niyiyu/anaconda3/envs/seisml/lib/python3.8/site-packages/obspy/io/stationxml/core.py:96: UserWarning: The StationXML file has version 1.2, ObsPy can read versions (1.0, 1.1). Proceed with caution.\n",
      "  warnings.warn(\"The StationXML file has version %s, ObsPy can \"\n",
      " 80%|███████▉  | 483/605 [01:18<00:26,  4.59it/s]/home/niyiyu/anaconda3/envs/seisml/lib/python3.8/site-packages/obspy/io/stationxml/core.py:96: UserWarning: The StationXML file has version 1.2, ObsPy can read versions (1.0, 1.1). Proceed with caution.\n",
      "  warnings.warn(\"The StationXML file has version %s, ObsPy can \"\n",
      " 80%|████████  | 484/605 [01:19<00:33,  3.60it/s]/home/niyiyu/anaconda3/envs/seisml/lib/python3.8/site-packages/obspy/io/stationxml/core.py:96: UserWarning: The StationXML file has version 1.2, ObsPy can read versions (1.0, 1.1). Proceed with caution.\n",
      "  warnings.warn(\"The StationXML file has version %s, ObsPy can \"\n",
      " 80%|████████  | 485/605 [01:20<00:38,  3.11it/s]/home/niyiyu/anaconda3/envs/seisml/lib/python3.8/site-packages/obspy/io/stationxml/core.py:96: UserWarning: The StationXML file has version 1.2, ObsPy can read versions (1.0, 1.1). Proceed with caution.\n",
      "  warnings.warn(\"The StationXML file has version %s, ObsPy can \"\n",
      " 80%|████████  | 486/605 [01:20<00:43,  2.71it/s]/home/niyiyu/anaconda3/envs/seisml/lib/python3.8/site-packages/obspy/io/stationxml/core.py:96: UserWarning: The StationXML file has version 1.2, ObsPy can read versions (1.0, 1.1). Proceed with caution.\n",
      "  warnings.warn(\"The StationXML file has version %s, ObsPy can \"\n",
      " 80%|████████  | 487/605 [01:21<00:49,  2.40it/s]/home/niyiyu/anaconda3/envs/seisml/lib/python3.8/site-packages/obspy/io/stationxml/core.py:96: UserWarning: The StationXML file has version 1.2, ObsPy can read versions (1.0, 1.1). Proceed with caution.\n",
      "  warnings.warn(\"The StationXML file has version %s, ObsPy can \"\n",
      " 81%|████████  | 491/605 [01:22<00:33,  3.45it/s]/home/niyiyu/anaconda3/envs/seisml/lib/python3.8/site-packages/obspy/io/stationxml/core.py:96: UserWarning: The StationXML file has version 1.2, ObsPy can read versions (1.0, 1.1). Proceed with caution.\n",
      "  warnings.warn(\"The StationXML file has version %s, ObsPy can \"\n",
      " 82%|████████▏ | 494/605 [01:22<00:29,  3.77it/s]/home/niyiyu/anaconda3/envs/seisml/lib/python3.8/site-packages/obspy/io/stationxml/core.py:96: UserWarning: The StationXML file has version 1.2, ObsPy can read versions (1.0, 1.1). Proceed with caution.\n",
      "  warnings.warn(\"The StationXML file has version %s, ObsPy can \"\n",
      " 84%|████████▎ | 506/605 [01:23<00:12,  8.01it/s]/home/niyiyu/anaconda3/envs/seisml/lib/python3.8/site-packages/obspy/io/stationxml/core.py:96: UserWarning: The StationXML file has version 1.2, ObsPy can read versions (1.0, 1.1). Proceed with caution.\n",
      "  warnings.warn(\"The StationXML file has version %s, ObsPy can \"\n",
      " 84%|████████▍ | 508/605 [01:24<00:15,  6.44it/s]/home/niyiyu/anaconda3/envs/seisml/lib/python3.8/site-packages/obspy/io/stationxml/core.py:96: UserWarning: The StationXML file has version 1.2, ObsPy can read versions (1.0, 1.1). Proceed with caution.\n",
      "  warnings.warn(\"The StationXML file has version %s, ObsPy can \"\n",
      " 86%|████████▋ | 522/605 [01:24<00:07, 10.83it/s]/home/niyiyu/anaconda3/envs/seisml/lib/python3.8/site-packages/obspy/io/stationxml/core.py:96: UserWarning: The StationXML file has version 1.2, ObsPy can read versions (1.0, 1.1). Proceed with caution.\n",
      "  warnings.warn(\"The StationXML file has version %s, ObsPy can \"\n",
      " 87%|████████▋ | 524/605 [01:25<00:09,  8.57it/s]/home/niyiyu/anaconda3/envs/seisml/lib/python3.8/site-packages/obspy/io/stationxml/core.py:96: UserWarning: The StationXML file has version 1.2, ObsPy can read versions (1.0, 1.1). Proceed with caution.\n",
      "  warnings.warn(\"The StationXML file has version %s, ObsPy can \"\n",
      " 88%|████████▊ | 534/605 [01:26<00:06, 10.36it/s]/home/niyiyu/anaconda3/envs/seisml/lib/python3.8/site-packages/obspy/io/stationxml/core.py:96: UserWarning: The StationXML file has version 1.2, ObsPy can read versions (1.0, 1.1). Proceed with caution.\n",
      "  warnings.warn(\"The StationXML file has version %s, ObsPy can \"\n",
      " 89%|████████▊ | 536/605 [01:26<00:08,  8.24it/s]/home/niyiyu/anaconda3/envs/seisml/lib/python3.8/site-packages/obspy/io/stationxml/core.py:96: UserWarning: The StationXML file has version 1.2, ObsPy can read versions (1.0, 1.1). Proceed with caution.\n",
      "  warnings.warn(\"The StationXML file has version %s, ObsPy can \"\n",
      " 90%|█████████ | 546/605 [01:27<00:05, 10.36it/s]/home/niyiyu/anaconda3/envs/seisml/lib/python3.8/site-packages/obspy/io/stationxml/core.py:96: UserWarning: The StationXML file has version 1.2, ObsPy can read versions (1.0, 1.1). Proceed with caution.\n",
      "  warnings.warn(\"The StationXML file has version %s, ObsPy can \"\n",
      " 91%|█████████ | 548/605 [01:28<00:07,  8.03it/s]/home/niyiyu/anaconda3/envs/seisml/lib/python3.8/site-packages/obspy/io/stationxml/core.py:96: UserWarning: The StationXML file has version 1.2, ObsPy can read versions (1.0, 1.1). Proceed with caution.\n",
      "  warnings.warn(\"The StationXML file has version %s, ObsPy can \"\n"
     ]
    },
    {
     "name": "stderr",
     "output_type": "stream",
     "text": [
      " 92%|█████████▏| 559/605 [01:28<00:04, 10.65it/s]/home/niyiyu/anaconda3/envs/seisml/lib/python3.8/site-packages/obspy/io/stationxml/core.py:96: UserWarning: The StationXML file has version 1.2, ObsPy can read versions (1.0, 1.1). Proceed with caution.\n",
      "  warnings.warn(\"The StationXML file has version %s, ObsPy can \"\n",
      "/home/niyiyu/anaconda3/envs/seisml/lib/python3.8/site-packages/obspy/io/stationxml/core.py:96: UserWarning: The StationXML file has version 1.2, ObsPy can read versions (1.0, 1.1). Proceed with caution.\n",
      "  warnings.warn(\"The StationXML file has version %s, ObsPy can \"\n",
      " 93%|█████████▎| 561/605 [01:30<00:06,  6.40it/s]/home/niyiyu/anaconda3/envs/seisml/lib/python3.8/site-packages/obspy/io/stationxml/core.py:96: UserWarning: The StationXML file has version 1.2, ObsPy can read versions (1.0, 1.1). Proceed with caution.\n",
      "  warnings.warn(\"The StationXML file has version %s, ObsPy can \"\n",
      " 93%|█████████▎| 562/605 [01:30<00:08,  5.22it/s]/home/niyiyu/anaconda3/envs/seisml/lib/python3.8/site-packages/obspy/io/stationxml/core.py:96: UserWarning: The StationXML file has version 1.2, ObsPy can read versions (1.0, 1.1). Proceed with caution.\n",
      "  warnings.warn(\"The StationXML file has version %s, ObsPy can \"\n",
      " 93%|█████████▎| 563/605 [01:31<00:09,  4.28it/s]/home/niyiyu/anaconda3/envs/seisml/lib/python3.8/site-packages/obspy/io/stationxml/core.py:96: UserWarning: The StationXML file has version 1.2, ObsPy can read versions (1.0, 1.1). Proceed with caution.\n",
      "  warnings.warn(\"The StationXML file has version %s, ObsPy can \"\n",
      " 93%|█████████▎| 564/605 [01:32<00:11,  3.47it/s]/home/niyiyu/anaconda3/envs/seisml/lib/python3.8/site-packages/obspy/io/stationxml/core.py:96: UserWarning: The StationXML file has version 1.2, ObsPy can read versions (1.0, 1.1). Proceed with caution.\n",
      "  warnings.warn(\"The StationXML file has version %s, ObsPy can \"\n",
      " 93%|█████████▎| 565/605 [01:32<00:13,  2.87it/s]/home/niyiyu/anaconda3/envs/seisml/lib/python3.8/site-packages/obspy/io/stationxml/core.py:96: UserWarning: The StationXML file has version 1.2, ObsPy can read versions (1.0, 1.1). Proceed with caution.\n",
      "  warnings.warn(\"The StationXML file has version %s, ObsPy can \"\n",
      " 94%|█████████▎| 566/605 [01:33<00:15,  2.51it/s]/home/niyiyu/anaconda3/envs/seisml/lib/python3.8/site-packages/obspy/io/stationxml/core.py:96: UserWarning: The StationXML file has version 1.2, ObsPy can read versions (1.0, 1.1). Proceed with caution.\n",
      "  warnings.warn(\"The StationXML file has version %s, ObsPy can \"\n",
      " 94%|█████████▎| 567/605 [01:34<00:16,  2.24it/s]/home/niyiyu/anaconda3/envs/seisml/lib/python3.8/site-packages/obspy/io/stationxml/core.py:96: UserWarning: The StationXML file has version 1.2, ObsPy can read versions (1.0, 1.1). Proceed with caution.\n",
      "  warnings.warn(\"The StationXML file has version %s, ObsPy can \"\n",
      " 94%|█████████▍| 570/605 [01:34<00:11,  2.93it/s]/home/niyiyu/anaconda3/envs/seisml/lib/python3.8/site-packages/obspy/io/stationxml/core.py:96: UserWarning: The StationXML file has version 1.2, ObsPy can read versions (1.0, 1.1). Proceed with caution.\n",
      "  warnings.warn(\"The StationXML file has version %s, ObsPy can \"\n",
      " 95%|█████████▍| 573/605 [01:35<00:09,  3.35it/s]/home/niyiyu/anaconda3/envs/seisml/lib/python3.8/site-packages/obspy/io/stationxml/core.py:96: UserWarning: The StationXML file has version 1.2, ObsPy can read versions (1.0, 1.1). Proceed with caution.\n",
      "  warnings.warn(\"The StationXML file has version %s, ObsPy can \"\n",
      "100%|██████████| 605/605 [01:36<00:00,  6.29it/s]\n"
     ]
    }
   ],
   "source": [
    "error = []\n",
    "for idx, i in tqdm(df.iterrows(), total = len(df)):\n",
    "    if df.iloc[idx, 14] == \"TBA\":\n",
    "        network = df.iloc[idx, 10]\n",
    "        station = df.iloc[idx, 12]\n",
    "        channel = df.iloc[idx, 11] + \"Z\"\n",
    "        location = df.iloc[idx, 13]\n",
    "        time = UTCDateTime(df.iloc[idx, 19])\n",
    "        s = ncedc.get_stations(network = network, \n",
    "                               station = station, \n",
    "                               location = location, \n",
    "                               channel = channel, \n",
    "                               level = 'station')\n",
    "        \n",
    "#         try:\n",
    "        assert len(s) >= 1\n",
    "        df.iloc[idx, 14] = s[0][0].latitude         # latitude\n",
    "        df.iloc[idx, 15] = s[0][0].longitude         # longitude\n",
    "        df.iloc[idx, 16] = s[0][0].elevation         # elevation\n",
    "            \n",
    "#         except:\n",
    "#             print(idx)\n",
    "#             error.append([idx, i])\n"
   ]
  },
  {
   "cell_type": "code",
   "execution_count": null,
   "id": "1870ab74",
   "metadata": {},
   "outputs": [],
   "source": []
  }
 ],
 "metadata": {
  "kernelspec": {
   "display_name": "seisml",
   "language": "python",
   "name": "seisml"
  },
  "language_info": {
   "codemirror_mode": {
    "name": "ipython",
    "version": 3
   },
   "file_extension": ".py",
   "mimetype": "text/x-python",
   "name": "python",
   "nbconvert_exporter": "python",
   "pygments_lexer": "ipython3",
   "version": "3.8.12"
  }
 },
 "nbformat": 4,
 "nbformat_minor": 5
}
