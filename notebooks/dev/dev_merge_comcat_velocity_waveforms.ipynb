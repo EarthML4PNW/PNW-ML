{
 "cells": [
  {
   "cell_type": "code",
   "execution_count": 1,
   "id": "ae186c9f",
   "metadata": {},
   "outputs": [],
   "source": [
    "import warnings\n",
    "warnings.simplefilter(action='ignore', category=FutureWarning)\n",
    "import h5py\n",
    "import numpy as np\n",
    "import pandas as pd\n",
    "from tqdm import tqdm\n",
    "import matplotlib.pyplot as plt\n",
    "from obspy.core.utcdatetime import UTCDateTime"
   ]
  },
  {
   "cell_type": "code",
   "execution_count": 2,
   "id": "a86db9ce",
   "metadata": {},
   "outputs": [
    {
     "name": "stderr",
     "output_type": "stream",
     "text": [
      "100%|██████████| 20/20 [12:08<00:00, 36.43s/it]\n"
     ]
    }
   ],
   "source": [
    "s = 0\n",
    "data = {}\n",
    "lenth = {}\n",
    "nbucket = 10\n",
    "for ibucket in range(nbucket):\n",
    "    lenth[ibucket + 1] = 0\n",
    "df_all = pd.DataFrame()\n",
    "for i in tqdm(range(2002, 2022)):\n",
    "    f = h5py.File(\"../data/mpiextract/proc%s_waveforms.hdf5\" % str(i), mode = \"r\")\n",
    "    df = pd.read_csv(\"../data/mpiextract/proc%s_metadata.csv\" % str(i))\n",
    "        \n",
    "    for idx in range(len(df)):\n",
    "        ib = int(df.iloc[idx]['trace_name'].split('bucket')[1].split('$')[0])  \n",
    "        ntr = int(df.iloc[idx]['trace_name'].split('$')[1].split(',')[0])\n",
    "        df.iloc[idx, df.columns.get_loc(\"trace_name\")] = 'bucket%s$%d,:3,:15001' % (ib, ntr + lenth[ib])\n",
    "        \n",
    "    for ibucket in range(nbucket):    \n",
    "        if (ibucket+1) in data.keys():\n",
    "            data[ibucket + 1] = np.concatenate([data[ibucket + 1], f['/data/bucket%d' % (ibucket + 1)][:]], axis = 0)\n",
    "        else:\n",
    "            data[ibucket + 1] = f['/data/bucket%d' % (ibucket + 1)][:]\n",
    "        lenth[ibucket + 1] = data[ibucket + 1].shape[0]\n",
    "\n",
    "    df_all = df_all.append(df, ignore_index = True)\n",
    "    \n",
    "    \n",
    "    f.close()"
   ]
  },
  {
   "cell_type": "code",
   "execution_count": 9,
   "id": "b1fb4053",
   "metadata": {},
   "outputs": [],
   "source": [
    "select = (pd.notnull(df_all['trace_S_arrival_sample'])) & (pd.notnull(df_all['trace_P_arrival_sample']))\n",
    "meta_PS = df_all[select]\n",
    "meta_PS.to_csv(\"../data/metadata.csv\", index = False)"
   ]
  },
  {
   "cell_type": "code",
   "execution_count": 3,
   "id": "84cfbed7",
   "metadata": {},
   "outputs": [],
   "source": [
    "f = h5py.File(\"../data/waveforms.hdf5\", mode = \"w\")\n",
    "for i in range(nbucket):\n",
    "    f[f'/data/bucket{i + 1}'] = data[i + 1]\n",
    "f['/data_format/component_order'] = \"ENZ\""
   ]
  },
  {
   "cell_type": "code",
   "execution_count": 4,
   "id": "7028e531",
   "metadata": {},
   "outputs": [],
   "source": [
    "f.close()"
   ]
  },
  {
   "cell_type": "code",
   "execution_count": null,
   "id": "c5c2787f",
   "metadata": {},
   "outputs": [],
   "source": []
  }
 ],
 "metadata": {
  "kernelspec": {
   "display_name": "seisml",
   "language": "python",
   "name": "seisml"
  },
  "language_info": {
   "codemirror_mode": {
    "name": "ipython",
    "version": 3
   },
   "file_extension": ".py",
   "mimetype": "text/x-python",
   "name": "python",
   "nbconvert_exporter": "python",
   "pygments_lexer": "ipython3",
   "version": "3.8.12"
  }
 },
 "nbformat": 4,
 "nbformat_minor": 5
}
